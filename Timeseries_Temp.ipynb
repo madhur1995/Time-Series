{
  "nbformat": 4,
  "nbformat_minor": 0,
  "metadata": {
    "colab": {
      "name": "Timeseries_Temp.ipynb",
      "provenance": []
    },
    "kernelspec": {
      "name": "python3",
      "display_name": "Python 3"
    },
    "language_info": {
      "name": "python"
    }
  },
  "cells": [
    {
      "cell_type": "code",
      "metadata": {
        "id": "Brzyysfg8K2s"
      },
      "source": [
        "import numpy as np\n",
        "import pandas as pd\n",
        "import matplotlib.pyplot as plt\n",
        "import seaborn as sns"
      ],
      "execution_count": 21,
      "outputs": []
    },
    {
      "cell_type": "code",
      "metadata": {
        "colab": {
          "base_uri": "https://localhost:8080/",
          "height": 206
        },
        "id": "wDavVjZv8qGb",
        "outputId": "b4fd6416-7f84-4064-fe42-19bff24ef516"
      },
      "source": [
        "df= pd.read_csv(\"temperatures.csv\")\n",
        "df.head()"
      ],
      "execution_count": 22,
      "outputs": [
        {
          "output_type": "execute_result",
          "data": {
            "text/html": [
              "<div>\n",
              "<style scoped>\n",
              "    .dataframe tbody tr th:only-of-type {\n",
              "        vertical-align: middle;\n",
              "    }\n",
              "\n",
              "    .dataframe tbody tr th {\n",
              "        vertical-align: top;\n",
              "    }\n",
              "\n",
              "    .dataframe thead th {\n",
              "        text-align: right;\n",
              "    }\n",
              "</style>\n",
              "<table border=\"1\" class=\"dataframe\">\n",
              "  <thead>\n",
              "    <tr style=\"text-align: right;\">\n",
              "      <th></th>\n",
              "      <th>Date</th>\n",
              "      <th>Temp</th>\n",
              "    </tr>\n",
              "  </thead>\n",
              "  <tbody>\n",
              "    <tr>\n",
              "      <th>0</th>\n",
              "      <td>1981-01-01</td>\n",
              "      <td>20.7</td>\n",
              "    </tr>\n",
              "    <tr>\n",
              "      <th>1</th>\n",
              "      <td>1981-01-02</td>\n",
              "      <td>17.9</td>\n",
              "    </tr>\n",
              "    <tr>\n",
              "      <th>2</th>\n",
              "      <td>1981-01-03</td>\n",
              "      <td>18.8</td>\n",
              "    </tr>\n",
              "    <tr>\n",
              "      <th>3</th>\n",
              "      <td>1981-01-04</td>\n",
              "      <td>14.6</td>\n",
              "    </tr>\n",
              "    <tr>\n",
              "      <th>4</th>\n",
              "      <td>1981-01-05</td>\n",
              "      <td>15.8</td>\n",
              "    </tr>\n",
              "  </tbody>\n",
              "</table>\n",
              "</div>"
            ],
            "text/plain": [
              "         Date  Temp\n",
              "0  1981-01-01  20.7\n",
              "1  1981-01-02  17.9\n",
              "2  1981-01-03  18.8\n",
              "3  1981-01-04  14.6\n",
              "4  1981-01-05  15.8"
            ]
          },
          "metadata": {},
          "execution_count": 22
        }
      ]
    },
    {
      "cell_type": "code",
      "metadata": {
        "colab": {
          "base_uri": "https://localhost:8080/"
        },
        "id": "FWnBAL-Z9RjP",
        "outputId": "dbc788b3-142a-4f9c-d426-4a063d961255"
      },
      "source": [
        "df.info()"
      ],
      "execution_count": 24,
      "outputs": [
        {
          "output_type": "stream",
          "name": "stdout",
          "text": [
            "<class 'pandas.core.frame.DataFrame'>\n",
            "RangeIndex: 3650 entries, 0 to 3649\n",
            "Data columns (total 2 columns):\n",
            " #   Column  Non-Null Count  Dtype  \n",
            "---  ------  --------------  -----  \n",
            " 0   Date    3650 non-null   object \n",
            " 1   Temp    3650 non-null   float64\n",
            "dtypes: float64(1), object(1)\n",
            "memory usage: 57.2+ KB\n"
          ]
        }
      ]
    },
    {
      "cell_type": "code",
      "metadata": {
        "colab": {
          "base_uri": "https://localhost:8080/",
          "height": 206
        },
        "id": "9sSitPHM8vWr",
        "outputId": "70e220bc-2873-4d23-b6c6-90f54fd97bb9"
      },
      "source": [
        "df['Date'] = pd.to_datetime(df['Date'])\n",
        "df.head()"
      ],
      "execution_count": 25,
      "outputs": [
        {
          "output_type": "execute_result",
          "data": {
            "text/html": [
              "<div>\n",
              "<style scoped>\n",
              "    .dataframe tbody tr th:only-of-type {\n",
              "        vertical-align: middle;\n",
              "    }\n",
              "\n",
              "    .dataframe tbody tr th {\n",
              "        vertical-align: top;\n",
              "    }\n",
              "\n",
              "    .dataframe thead th {\n",
              "        text-align: right;\n",
              "    }\n",
              "</style>\n",
              "<table border=\"1\" class=\"dataframe\">\n",
              "  <thead>\n",
              "    <tr style=\"text-align: right;\">\n",
              "      <th></th>\n",
              "      <th>Date</th>\n",
              "      <th>Temp</th>\n",
              "    </tr>\n",
              "  </thead>\n",
              "  <tbody>\n",
              "    <tr>\n",
              "      <th>0</th>\n",
              "      <td>1981-01-01</td>\n",
              "      <td>20.7</td>\n",
              "    </tr>\n",
              "    <tr>\n",
              "      <th>1</th>\n",
              "      <td>1981-01-02</td>\n",
              "      <td>17.9</td>\n",
              "    </tr>\n",
              "    <tr>\n",
              "      <th>2</th>\n",
              "      <td>1981-01-03</td>\n",
              "      <td>18.8</td>\n",
              "    </tr>\n",
              "    <tr>\n",
              "      <th>3</th>\n",
              "      <td>1981-01-04</td>\n",
              "      <td>14.6</td>\n",
              "    </tr>\n",
              "    <tr>\n",
              "      <th>4</th>\n",
              "      <td>1981-01-05</td>\n",
              "      <td>15.8</td>\n",
              "    </tr>\n",
              "  </tbody>\n",
              "</table>\n",
              "</div>"
            ],
            "text/plain": [
              "        Date  Temp\n",
              "0 1981-01-01  20.7\n",
              "1 1981-01-02  17.9\n",
              "2 1981-01-03  18.8\n",
              "3 1981-01-04  14.6\n",
              "4 1981-01-05  15.8"
            ]
          },
          "metadata": {},
          "execution_count": 25
        }
      ]
    },
    {
      "cell_type": "code",
      "metadata": {
        "colab": {
          "base_uri": "https://localhost:8080/"
        },
        "id": "MXNvCsoh9IEb",
        "outputId": "0384525e-20cc-4f41-a690-8ce6fcdd9c64"
      },
      "source": [
        "df.info()"
      ],
      "execution_count": 26,
      "outputs": [
        {
          "output_type": "stream",
          "name": "stdout",
          "text": [
            "<class 'pandas.core.frame.DataFrame'>\n",
            "RangeIndex: 3650 entries, 0 to 3649\n",
            "Data columns (total 2 columns):\n",
            " #   Column  Non-Null Count  Dtype         \n",
            "---  ------  --------------  -----         \n",
            " 0   Date    3650 non-null   datetime64[ns]\n",
            " 1   Temp    3650 non-null   float64       \n",
            "dtypes: datetime64[ns](1), float64(1)\n",
            "memory usage: 57.2 KB\n"
          ]
        }
      ]
    },
    {
      "cell_type": "code",
      "metadata": {
        "id": "XRVYaRcrBhyM"
      },
      "source": [
        "df.set_index(['Date'], inplace=True)"
      ],
      "execution_count": 28,
      "outputs": []
    },
    {
      "cell_type": "code",
      "metadata": {
        "colab": {
          "base_uri": "https://localhost:8080/",
          "height": 455
        },
        "id": "Eu5uD2-UBqte",
        "outputId": "93f8492f-dbb2-4f10-ce3f-c0d90e221c30"
      },
      "source": [
        "df"
      ],
      "execution_count": 29,
      "outputs": [
        {
          "output_type": "execute_result",
          "data": {
            "text/html": [
              "<div>\n",
              "<style scoped>\n",
              "    .dataframe tbody tr th:only-of-type {\n",
              "        vertical-align: middle;\n",
              "    }\n",
              "\n",
              "    .dataframe tbody tr th {\n",
              "        vertical-align: top;\n",
              "    }\n",
              "\n",
              "    .dataframe thead th {\n",
              "        text-align: right;\n",
              "    }\n",
              "</style>\n",
              "<table border=\"1\" class=\"dataframe\">\n",
              "  <thead>\n",
              "    <tr style=\"text-align: right;\">\n",
              "      <th></th>\n",
              "      <th>Temp</th>\n",
              "    </tr>\n",
              "    <tr>\n",
              "      <th>Date</th>\n",
              "      <th></th>\n",
              "    </tr>\n",
              "  </thead>\n",
              "  <tbody>\n",
              "    <tr>\n",
              "      <th>1981-01-01</th>\n",
              "      <td>20.7</td>\n",
              "    </tr>\n",
              "    <tr>\n",
              "      <th>1981-01-02</th>\n",
              "      <td>17.9</td>\n",
              "    </tr>\n",
              "    <tr>\n",
              "      <th>1981-01-03</th>\n",
              "      <td>18.8</td>\n",
              "    </tr>\n",
              "    <tr>\n",
              "      <th>1981-01-04</th>\n",
              "      <td>14.6</td>\n",
              "    </tr>\n",
              "    <tr>\n",
              "      <th>1981-01-05</th>\n",
              "      <td>15.8</td>\n",
              "    </tr>\n",
              "    <tr>\n",
              "      <th>...</th>\n",
              "      <td>...</td>\n",
              "    </tr>\n",
              "    <tr>\n",
              "      <th>1990-12-27</th>\n",
              "      <td>14.0</td>\n",
              "    </tr>\n",
              "    <tr>\n",
              "      <th>1990-12-28</th>\n",
              "      <td>13.6</td>\n",
              "    </tr>\n",
              "    <tr>\n",
              "      <th>1990-12-29</th>\n",
              "      <td>13.5</td>\n",
              "    </tr>\n",
              "    <tr>\n",
              "      <th>1990-12-30</th>\n",
              "      <td>15.7</td>\n",
              "    </tr>\n",
              "    <tr>\n",
              "      <th>1990-12-31</th>\n",
              "      <td>13.0</td>\n",
              "    </tr>\n",
              "  </tbody>\n",
              "</table>\n",
              "<p>3650 rows × 1 columns</p>\n",
              "</div>"
            ],
            "text/plain": [
              "            Temp\n",
              "Date            \n",
              "1981-01-01  20.7\n",
              "1981-01-02  17.9\n",
              "1981-01-03  18.8\n",
              "1981-01-04  14.6\n",
              "1981-01-05  15.8\n",
              "...          ...\n",
              "1990-12-27  14.0\n",
              "1990-12-28  13.6\n",
              "1990-12-29  13.5\n",
              "1990-12-30  15.7\n",
              "1990-12-31  13.0\n",
              "\n",
              "[3650 rows x 1 columns]"
            ]
          },
          "metadata": {},
          "execution_count": 29
        }
      ]
    },
    {
      "cell_type": "code",
      "metadata": {
        "colab": {
          "base_uri": "https://localhost:8080/",
          "height": 283
        },
        "id": "PxIdHFOxBwYk",
        "outputId": "f19ff1cc-7120-4b28-92a8-cd0eb92ffd75"
      },
      "source": [
        "plt.plot(df['Temp'])"
      ],
      "execution_count": 31,
      "outputs": [
        {
          "output_type": "execute_result",
          "data": {
            "text/plain": [
              "[<matplotlib.lines.Line2D at 0x7ff51a79d310>]"
            ]
          },
          "metadata": {},
          "execution_count": 31
        },
        {
          "output_type": "display_data",
          "data": {
            "image/png": "[encoded data removed]",
            "text/plain": [
              "<Figure size 432x288 with 1 Axes>"
            ]
          },
          "metadata": {
            "needs_background": "light"
          }
        }
      ]
    },
    {
      "cell_type": "code",
      "metadata": {
        "colab": {
          "base_uri": "https://localhost:8080/"
        },
        "id": "cQ88pcLAB3qX",
        "outputId": "03acd49c-0d0d-49fa-ac1a-7fb372dd3e28"
      },
      "source": [
        "from statsmodels.tsa.stattools import adfuller"
      ],
      "execution_count": 32,
      "outputs": [
        {
          "output_type": "stream",
          "name": "stderr",
          "text": [
            "/usr/local/lib/python3.7/dist-packages/statsmodels/tools/_testing.py:19: FutureWarning: pandas.util.testing is deprecated. Use the functions in the public API at pandas.testing instead.\n",
            "  import pandas.util.testing as tm\n"
          ]
        }
      ]
    },
    {
      "cell_type": "code",
      "metadata": {
        "colab": {
          "base_uri": "https://localhost:8080/"
        },
        "id": "BqsJ5MeQC8L1",
        "outputId": "1e54c493-2b96-45cf-ae39-921fa1b05209"
      },
      "source": [
        "adfuller(df['Temp'])"
      ],
      "execution_count": 35,
      "outputs": [
        {
          "output_type": "execute_result",
          "data": {
            "text/plain": [
              "(-4.4448049246117,\n",
              " 0.0002470826300360994,\n",
              " 20,\n",
              " 3629,\n",
              " {'1%': -3.4321532327220154,\n",
              "  '10%': -2.56719413172842,\n",
              "  '5%': -2.862336767636517},\n",
              " 16642.822304301197)"
            ]
          },
          "metadata": {},
          "execution_count": 35
        }
      ]
    },
    {
      "cell_type": "code",
      "metadata": {
        "id": "aqgLeMA8DBAS"
      },
      "source": [
        "df['Seasonality'] = df['Temp'] - df['Temp'].shift(12)"
      ],
      "execution_count": 36,
      "outputs": []
    },
    {
      "cell_type": "code",
      "metadata": {
        "colab": {
          "base_uri": "https://localhost:8080/",
          "height": 551
        },
        "id": "Zk8yQpgYDfTc",
        "outputId": "b08a925b-25b9-4fd8-9c69-039671708821"
      },
      "source": [
        "df.head(15)"
      ],
      "execution_count": 38,
      "outputs": [
        {
          "output_type": "execute_result",
          "data": {
            "text/html": [
              "<div>\n",
              "<style scoped>\n",
              "    .dataframe tbody tr th:only-of-type {\n",
              "        vertical-align: middle;\n",
              "    }\n",
              "\n",
              "    .dataframe tbody tr th {\n",
              "        vertical-align: top;\n",
              "    }\n",
              "\n",
              "    .dataframe thead th {\n",
              "        text-align: right;\n",
              "    }\n",
              "</style>\n",
              "<table border=\"1\" class=\"dataframe\">\n",
              "  <thead>\n",
              "    <tr style=\"text-align: right;\">\n",
              "      <th></th>\n",
              "      <th>Temp</th>\n",
              "      <th>Seasonality</th>\n",
              "    </tr>\n",
              "    <tr>\n",
              "      <th>Date</th>\n",
              "      <th></th>\n",
              "      <th></th>\n",
              "    </tr>\n",
              "  </thead>\n",
              "  <tbody>\n",
              "    <tr>\n",
              "      <th>1981-01-01</th>\n",
              "      <td>20.7</td>\n",
              "      <td>NaN</td>\n",
              "    </tr>\n",
              "    <tr>\n",
              "      <th>1981-01-02</th>\n",
              "      <td>17.9</td>\n",
              "      <td>NaN</td>\n",
              "    </tr>\n",
              "    <tr>\n",
              "      <th>1981-01-03</th>\n",
              "      <td>18.8</td>\n",
              "      <td>NaN</td>\n",
              "    </tr>\n",
              "    <tr>\n",
              "      <th>1981-01-04</th>\n",
              "      <td>14.6</td>\n",
              "      <td>NaN</td>\n",
              "    </tr>\n",
              "    <tr>\n",
              "      <th>1981-01-05</th>\n",
              "      <td>15.8</td>\n",
              "      <td>NaN</td>\n",
              "    </tr>\n",
              "    <tr>\n",
              "      <th>1981-01-06</th>\n",
              "      <td>15.8</td>\n",
              "      <td>NaN</td>\n",
              "    </tr>\n",
              "    <tr>\n",
              "      <th>1981-01-07</th>\n",
              "      <td>15.8</td>\n",
              "      <td>NaN</td>\n",
              "    </tr>\n",
              "    <tr>\n",
              "      <th>1981-01-08</th>\n",
              "      <td>17.4</td>\n",
              "      <td>NaN</td>\n",
              "    </tr>\n",
              "    <tr>\n",
              "      <th>1981-01-09</th>\n",
              "      <td>21.8</td>\n",
              "      <td>NaN</td>\n",
              "    </tr>\n",
              "    <tr>\n",
              "      <th>1981-01-10</th>\n",
              "      <td>20.0</td>\n",
              "      <td>NaN</td>\n",
              "    </tr>\n",
              "    <tr>\n",
              "      <th>1981-01-11</th>\n",
              "      <td>16.2</td>\n",
              "      <td>NaN</td>\n",
              "    </tr>\n",
              "    <tr>\n",
              "      <th>1981-01-12</th>\n",
              "      <td>13.3</td>\n",
              "      <td>NaN</td>\n",
              "    </tr>\n",
              "    <tr>\n",
              "      <th>1981-01-13</th>\n",
              "      <td>16.7</td>\n",
              "      <td>-4.0</td>\n",
              "    </tr>\n",
              "    <tr>\n",
              "      <th>1981-01-14</th>\n",
              "      <td>21.5</td>\n",
              "      <td>3.6</td>\n",
              "    </tr>\n",
              "    <tr>\n",
              "      <th>1981-01-15</th>\n",
              "      <td>25.0</td>\n",
              "      <td>6.2</td>\n",
              "    </tr>\n",
              "  </tbody>\n",
              "</table>\n",
              "</div>"
            ],
            "text/plain": [
              "            Temp  Seasonality\n",
              "Date                         \n",
              "1981-01-01  20.7          NaN\n",
              "1981-01-02  17.9          NaN\n",
              "1981-01-03  18.8          NaN\n",
              "1981-01-04  14.6          NaN\n",
              "1981-01-05  15.8          NaN\n",
              "1981-01-06  15.8          NaN\n",
              "1981-01-07  15.8          NaN\n",
              "1981-01-08  17.4          NaN\n",
              "1981-01-09  21.8          NaN\n",
              "1981-01-10  20.0          NaN\n",
              "1981-01-11  16.2          NaN\n",
              "1981-01-12  13.3          NaN\n",
              "1981-01-13  16.7         -4.0\n",
              "1981-01-14  21.5          3.6\n",
              "1981-01-15  25.0          6.2"
            ]
          },
          "metadata": {},
          "execution_count": 38
        }
      ]
    },
    {
      "cell_type": "code",
      "metadata": {
        "colab": {
          "base_uri": "https://localhost:8080/",
          "height": 283
        },
        "id": "0Vc4BHNtJweE",
        "outputId": "eddac093-7322-4009-90ba-907e96318f91"
      },
      "source": [
        "plt.plot(df['Temp'])"
      ],
      "execution_count": 54,
      "outputs": [
        {
          "output_type": "execute_result",
          "data": {
            "text/plain": [
              "[<matplotlib.lines.Line2D at 0x7ff4fabcfc10>]"
            ]
          },
          "metadata": {},
          "execution_count": 54
        },
        {
          "output_type": "display_data",
          "data": {
            "image/png": "[encoded data removed]",
            "text/plain": [
              "<Figure size 432x288 with 1 Axes>"
            ]
          },
          "metadata": {
            "needs_background": "light"
          }
        }
      ]
    },
    {
      "cell_type": "code",
      "metadata": {
        "colab": {
          "base_uri": "https://localhost:8080/"
        },
        "id": "5Iw4HFtTDhBj",
        "outputId": "c1c84af2-0916-49ef-be74-f94ab2b2b003"
      },
      "source": [
        "adfuller(df['Seasonality'].dropna())"
      ],
      "execution_count": 39,
      "outputs": [
        {
          "output_type": "execute_result",
          "data": {
            "text/plain": [
              "(-9.938406810160819,\n",
              " 2.7048210175208564e-17,\n",
              " 30,\n",
              " 3607,\n",
              " {'1%': -3.4321642389337907,\n",
              "  '10%': -2.5671967199233476,\n",
              "  '5%': -2.862341629305848},\n",
              " 17583.096987244804)"
            ]
          },
          "metadata": {},
          "execution_count": 39
        }
      ]
    },
    {
      "cell_type": "code",
      "metadata": {
        "id": "87k-xFUED17a"
      },
      "source": [
        "p=8\n",
        "d=0\n",
        "q=12\n",
        "\n",
        "P=2\n",
        "D=1\n",
        "Q=4"
      ],
      "execution_count": null,
      "outputs": []
    },
    {
      "cell_type": "code",
      "metadata": {
        "id": "tspzi-33EDSf"
      },
      "source": [
        "from statsmodels.graphics.tsaplots import plot_acf, plot_pacf"
      ],
      "execution_count": 40,
      "outputs": []
    },
    {
      "cell_type": "code",
      "metadata": {
        "colab": {
          "base_uri": "https://localhost:8080/",
          "height": 281
        },
        "id": "UuQjdEkuEDoc",
        "outputId": "e8fd6ea5-4ebd-4ddb-c6cf-13267bdacc1c"
      },
      "source": [
        "plot_acf(df['Temp'], lags=12)\n",
        "plt.show()"
      ],
      "execution_count": 41,
      "outputs": [
        {
          "output_type": "display_data",
          "data": {
            "image/png": "[encoded data removed]",
            "text/plain": [
              "<Figure size 432x288 with 1 Axes>"
            ]
          },
          "metadata": {
            "needs_background": "light"
          }
        }
      ]
    },
    {
      "cell_type": "code",
      "metadata": {
        "colab": {
          "base_uri": "https://localhost:8080/",
          "height": 281
        },
        "id": "xwfbGTsrEOcp",
        "outputId": "ef1ac4ab-e1eb-42b9-a936-48dda0f4d9d5"
      },
      "source": [
        "plot_pacf(df['Temp'], lags=12)\n",
        "plt.show()"
      ],
      "execution_count": 43,
      "outputs": [
        {
          "output_type": "display_data",
          "data": {
            "image/png": "[encoded data removed]",
            "text/plain": [
              "<Figure size 432x288 with 1 Axes>"
            ]
          },
          "metadata": {
            "needs_background": "light"
          }
        }
      ]
    },
    {
      "cell_type": "code",
      "metadata": {
        "colab": {
          "base_uri": "https://localhost:8080/",
          "height": 281
        },
        "id": "aHUMeF8TEgdP",
        "outputId": "4df7d650-1374-4ac4-d3b2-144f29e327a7"
      },
      "source": [
        "plot_acf(df['Seasonality'].dropna(), lags=12)\n",
        "plt.show()"
      ],
      "execution_count": 45,
      "outputs": [
        {
          "output_type": "display_data",
          "data": {
            "image/png": "[encoded data removed]",
            "text/plain": [
              "<Figure size 432x288 with 1 Axes>"
            ]
          },
          "metadata": {
            "needs_background": "light"
          }
        }
      ]
    },
    {
      "cell_type": "code",
      "metadata": {
        "colab": {
          "base_uri": "https://localhost:8080/",
          "height": 281
        },
        "id": "v3siTLhiEyB-",
        "outputId": "5dc48b12-ddfd-49c3-f521-f3d088d6927f"
      },
      "source": [
        "plot_pacf(df['Seasonality'].dropna(), lags=12)\n",
        "plt.show()"
      ],
      "execution_count": 46,
      "outputs": [
        {
          "output_type": "display_data",
          "data": {
            "image/png": "[encoded data removed]",
            "text/plain": [
              "<Figure size 432x288 with 1 Axes>"
            ]
          },
          "metadata": {
            "needs_background": "light"
          }
        }
      ]
    },
    {
      "cell_type": "code",
      "metadata": {
        "id": "PzLQA_7PFCMW"
      },
      "source": [
        "#p=8\n",
        "d=0\n",
        "q=12\n",
        "\n",
        "P=2\n",
        "D=1\n",
        "Q=4"
      ],
      "execution_count": null,
      "outputs": []
    },
    {
      "cell_type": "code",
      "metadata": {
        "colab": {
          "base_uri": "https://localhost:8080/",
          "height": 520
        },
        "id": "CjYbUmDaFYvm",
        "outputId": "e9840612-5cc0-44c2-a4a6-14ec4846a2ca"
      },
      "source": [
        "!pip install pmdarima"
      ],
      "execution_count": 51,
      "outputs": [
        {
          "output_type": "stream",
          "name": "stdout",
          "text": [
            "Collecting pmdarima\n",
            "  Downloading pmdarima-1.8.3-cp37-cp37m-manylinux_2_17_x86_64.manylinux2014_x86_64.manylinux_2_24_x86_64.whl (1.4 MB)\n",
            "\u001b[?25l\r\u001b[K     |▎                               | 10 kB 22.3 MB/s eta 0:00:01\r\u001b[K     |▌                               | 20 kB 28.0 MB/s eta 0:00:01\r\u001b[K     |▊                               | 30 kB 22.3 MB/s eta 0:00:01\r\u001b[K     |█                               | 40 kB 18.3 MB/s eta 0:00:01\r\u001b[K     |█▏                              | 51 kB 8.0 MB/s eta 0:00:01\r\u001b[K     |█▍                              | 61 kB 9.2 MB/s eta 0:00:01\r\u001b[K     |█▋                              | 71 kB 8.4 MB/s eta 0:00:01\r\u001b[K     |██                              | 81 kB 9.2 MB/s eta 0:00:01\r\u001b[K     |██▏                             | 92 kB 10.1 MB/s eta 0:00:01\r\u001b[K     |██▍                             | 102 kB 7.7 MB/s eta 0:00:01\r\u001b[K     |██▋                             | 112 kB 7.7 MB/s eta 0:00:01\r\u001b[K     |██▉                             | 122 kB 7.7 MB/s eta 0:00:01\r\u001b[K     |███                             | 133 kB 7.7 MB/s eta 0:00:01\r\u001b[K     |███▎                            | 143 kB 7.7 MB/s eta 0:00:01\r\u001b[K     |███▌                            | 153 kB 7.7 MB/s eta 0:00:01\r\u001b[K     |███▉                            | 163 kB 7.7 MB/s eta 0:00:01\r\u001b[K     |████                            | 174 kB 7.7 MB/s eta 0:00:01\r\u001b[K     |████▎                           | 184 kB 7.7 MB/s eta 0:00:01\r\u001b[K     |████▌                           | 194 kB 7.7 MB/s eta 0:00:01\r\u001b[K     |████▊                           | 204 kB 7.7 MB/s eta 0:00:01\r\u001b[K     |█████                           | 215 kB 7.7 MB/s eta 0:00:01\r\u001b[K     |█████▏                          | 225 kB 7.7 MB/s eta 0:00:01\r\u001b[K     |█████▌                          | 235 kB 7.7 MB/s eta 0:00:01\r\u001b[K     |█████▊                          | 245 kB 7.7 MB/s eta 0:00:01\r\u001b[K     |██████                          | 256 kB 7.7 MB/s eta 0:00:01\r\u001b[K     |██████▏                         | 266 kB 7.7 MB/s eta 0:00:01\r\u001b[K     |██████▍                         | 276 kB 7.7 MB/s eta 0:00:01\r\u001b[K     |██████▋                         | 286 kB 7.7 MB/s eta 0:00:01\r\u001b[K     |██████▉                         | 296 kB 7.7 MB/s eta 0:00:01\r\u001b[K     |███████                         | 307 kB 7.7 MB/s eta 0:00:01\r\u001b[K     |███████▍                        | 317 kB 7.7 MB/s eta 0:00:01\r\u001b[K     |███████▋                        | 327 kB 7.7 MB/s eta 0:00:01\r\u001b[K     |███████▉                        | 337 kB 7.7 MB/s eta 0:00:01\r\u001b[K     |████████                        | 348 kB 7.7 MB/s eta 0:00:01\r\u001b[K     |████████▎                       | 358 kB 7.7 MB/s eta 0:00:01\r\u001b[K     |████████▌                       | 368 kB 7.7 MB/s eta 0:00:01\r\u001b[K     |████████▊                       | 378 kB 7.7 MB/s eta 0:00:01\r\u001b[K     |█████████                       | 389 kB 7.7 MB/s eta 0:00:01\r\u001b[K     |█████████▎                      | 399 kB 7.7 MB/s eta 0:00:01\r\u001b[K     |█████████▌                      | 409 kB 7.7 MB/s eta 0:00:01\r\u001b[K     |█████████▊                      | 419 kB 7.7 MB/s eta 0:00:01\r\u001b[K     |██████████                      | 430 kB 7.7 MB/s eta 0:00:01\r\u001b[K     |██████████▏                     | 440 kB 7.7 MB/s eta 0:00:01\r\u001b[K     |██████████▍                     | 450 kB 7.7 MB/s eta 0:00:01\r\u001b[K     |██████████▋                     | 460 kB 7.7 MB/s eta 0:00:01\r\u001b[K     |███████████                     | 471 kB 7.7 MB/s eta 0:00:01\r\u001b[K     |███████████▏                    | 481 kB 7.7 MB/s eta 0:00:01\r\u001b[K     |███████████▍                    | 491 kB 7.7 MB/s eta 0:00:01\r\u001b[K     |███████████▋                    | 501 kB 7.7 MB/s eta 0:00:01\r\u001b[K     |███████████▉                    | 512 kB 7.7 MB/s eta 0:00:01\r\u001b[K     |████████████                    | 522 kB 7.7 MB/s eta 0:00:01\r\u001b[K     |████████████▎                   | 532 kB 7.7 MB/s eta 0:00:01\r\u001b[K     |████████████▌                   | 542 kB 7.7 MB/s eta 0:00:01\r\u001b[K     |████████████▉                   | 552 kB 7.7 MB/s eta 0:00:01\r\u001b[K     |█████████████                   | 563 kB 7.7 MB/s eta 0:00:01\r\u001b[K     |█████████████▎                  | 573 kB 7.7 MB/s eta 0:00:01\r\u001b[K     |█████████████▌                  | 583 kB 7.7 MB/s eta 0:00:01\r\u001b[K     |█████████████▊                  | 593 kB 7.7 MB/s eta 0:00:01\r\u001b[K     |██████████████                  | 604 kB 7.7 MB/s eta 0:00:01\r\u001b[K     |██████████████▏                 | 614 kB 7.7 MB/s eta 0:00:01\r\u001b[K     |██████████████▌                 | 624 kB 7.7 MB/s eta 0:00:01\r\u001b[K     |██████████████▊                 | 634 kB 7.7 MB/s eta 0:00:01\r\u001b[K     |███████████████                 | 645 kB 7.7 MB/s eta 0:00:01\r\u001b[K     |███████████████▏                | 655 kB 7.7 MB/s eta 0:00:01\r\u001b[K     |███████████████▍                | 665 kB 7.7 MB/s eta 0:00:01\r\u001b[K     |███████████████▋                | 675 kB 7.7 MB/s eta 0:00:01\r\u001b[K     |███████████████▉                | 686 kB 7.7 MB/s eta 0:00:01\r\u001b[K     |████████████████                | 696 kB 7.7 MB/s eta 0:00:01\r\u001b[K     |████████████████▍               | 706 kB 7.7 MB/s eta 0:00:01\r\u001b[K     |████████████████▋               | 716 kB 7.7 MB/s eta 0:00:01\r\u001b[K     |████████████████▉               | 727 kB 7.7 MB/s eta 0:00:01\r\u001b[K     |█████████████████               | 737 kB 7.7 MB/s eta 0:00:01\r\u001b[K     |█████████████████▎              | 747 kB 7.7 MB/s eta 0:00:01\r\u001b[K     |█████████████████▌              | 757 kB 7.7 MB/s eta 0:00:01\r\u001b[K     |█████████████████▊              | 768 kB 7.7 MB/s eta 0:00:01\r\u001b[K     |██████████████████              | 778 kB 7.7 MB/s eta 0:00:01\r\u001b[K     |██████████████████▎             | 788 kB 7.7 MB/s eta 0:00:01\r\u001b[K     |██████████████████▌             | 798 kB 7.7 MB/s eta 0:00:01\r\u001b[K     |██████████████████▊             | 808 kB 7.7 MB/s eta 0:00:01\r\u001b[K     |███████████████████             | 819 kB 7.7 MB/s eta 0:00:01\r\u001b[K     |███████████████████▏            | 829 kB 7.7 MB/s eta 0:00:01\r\u001b[K     |███████████████████▍            | 839 kB 7.7 MB/s eta 0:00:01\r\u001b[K     |███████████████████▋            | 849 kB 7.7 MB/s eta 0:00:01\r\u001b[K     |████████████████████            | 860 kB 7.7 MB/s eta 0:00:01\r\u001b[K     |████████████████████▏           | 870 kB 7.7 MB/s eta 0:00:01\r\u001b[K     |████████████████████▍           | 880 kB 7.7 MB/s eta 0:00:01\r\u001b[K     |████████████████████▋           | 890 kB 7.7 MB/s eta 0:00:01\r\u001b[K     |████████████████████▉           | 901 kB 7.7 MB/s eta 0:00:01\r\u001b[K     |█████████████████████           | 911 kB 7.7 MB/s eta 0:00:01\r\u001b[K     |█████████████████████▎          | 921 kB 7.7 MB/s eta 0:00:01\r\u001b[K     |█████████████████████▌          | 931 kB 7.7 MB/s eta 0:00:01\r\u001b[K     |█████████████████████▉          | 942 kB 7.7 MB/s eta 0:00:01\r\u001b[K     |██████████████████████          | 952 kB 7.7 MB/s eta 0:00:01\r\u001b[K     |██████████████████████▎         | 962 kB 7.7 MB/s eta 0:00:01\r\u001b[K     |██████████████████████▌         | 972 kB 7.7 MB/s eta 0:00:01\r\u001b[K     |██████████████████████▊         | 983 kB 7.7 MB/s eta 0:00:01\r\u001b[K     |███████████████████████         | 993 kB 7.7 MB/s eta 0:00:01\r\u001b[K     |███████████████████████▏        | 1.0 MB 7.7 MB/s eta 0:00:01\r\u001b[K     |███████████████████████▍        | 1.0 MB 7.7 MB/s eta 0:00:01\r\u001b[K     |███████████████████████▊        | 1.0 MB 7.7 MB/s eta 0:00:01\r\u001b[K     |████████████████████████        | 1.0 MB 7.7 MB/s eta 0:00:01\r\u001b[K     |████████████████████████▏       | 1.0 MB 7.7 MB/s eta 0:00:01\r\u001b[K     |████████████████████████▍       | 1.1 MB 7.7 MB/s eta 0:00:01\r\u001b[K     |████████████████████████▋       | 1.1 MB 7.7 MB/s eta 0:00:01\r\u001b[K     |████████████████████████▉       | 1.1 MB 7.7 MB/s eta 0:00:01\r\u001b[K     |█████████████████████████       | 1.1 MB 7.7 MB/s eta 0:00:01\r\u001b[K     |█████████████████████████▍      | 1.1 MB 7.7 MB/s eta 0:00:01\r\u001b[K     |█████████████████████████▋      | 1.1 MB 7.7 MB/s eta 0:00:01\r\u001b[K     |█████████████████████████▉      | 1.1 MB 7.7 MB/s eta 0:00:01\r\u001b[K     |██████████████████████████      | 1.1 MB 7.7 MB/s eta 0:00:01\r\u001b[K     |██████████████████████████▎     | 1.1 MB 7.7 MB/s eta 0:00:01\r\u001b[K     |██████████████████████████▌     | 1.1 MB 7.7 MB/s eta 0:00:01\r\u001b[K     |██████████████████████████▊     | 1.2 MB 7.7 MB/s eta 0:00:01\r\u001b[K     |███████████████████████████     | 1.2 MB 7.7 MB/s eta 0:00:01\r\u001b[K     |███████████████████████████▎    | 1.2 MB 7.7 MB/s eta 0:00:01\r\u001b[K     |███████████████████████████▌    | 1.2 MB 7.7 MB/s eta 0:00:01\r\u001b[K     |███████████████████████████▊    | 1.2 MB 7.7 MB/s eta 0:00:01\r\u001b[K     |████████████████████████████    | 1.2 MB 7.7 MB/s eta 0:00:01\r\u001b[K     |████████████████████████████▏   | 1.2 MB 7.7 MB/s eta 0:00:01\r\u001b[K     |████████████████████████████▍   | 1.2 MB 7.7 MB/s eta 0:00:01\r\u001b[K     |████████████████████████████▋   | 1.2 MB 7.7 MB/s eta 0:00:01\r\u001b[K     |█████████████████████████████   | 1.2 MB 7.7 MB/s eta 0:00:01\r\u001b[K     |█████████████████████████████▏  | 1.3 MB 7.7 MB/s eta 0:00:01\r\u001b[K     |█████████████████████████████▍  | 1.3 MB 7.7 MB/s eta 0:00:01\r\u001b[K     |█████████████████████████████▋  | 1.3 MB 7.7 MB/s eta 0:00:01\r\u001b[K     |█████████████████████████████▉  | 1.3 MB 7.7 MB/s eta 0:00:01\r\u001b[K     |██████████████████████████████  | 1.3 MB 7.7 MB/s eta 0:00:01\r\u001b[K     |██████████████████████████████▎ | 1.3 MB 7.7 MB/s eta 0:00:01\r\u001b[K     |██████████████████████████████▌ | 1.3 MB 7.7 MB/s eta 0:00:01\r\u001b[K     |██████████████████████████████▉ | 1.3 MB 7.7 MB/s eta 0:00:01\r\u001b[K     |███████████████████████████████ | 1.3 MB 7.7 MB/s eta 0:00:01\r\u001b[K     |███████████████████████████████▎| 1.4 MB 7.7 MB/s eta 0:00:01\r\u001b[K     |███████████████████████████████▌| 1.4 MB 7.7 MB/s eta 0:00:01\r\u001b[K     |███████████████████████████████▊| 1.4 MB 7.7 MB/s eta 0:00:01\r\u001b[K     |████████████████████████████████| 1.4 MB 7.7 MB/s eta 0:00:01\r\u001b[K     |████████████████████████████████| 1.4 MB 7.7 MB/s \n",
            "\u001b[?25hRequirement already satisfied: setuptools!=50.0.0,>=38.6.0 in /usr/local/lib/python3.7/dist-packages (from pmdarima) (57.4.0)\n",
            "Requirement already satisfied: numpy>=1.19.3 in /usr/local/lib/python3.7/dist-packages (from pmdarima) (1.19.5)\n",
            "Requirement already satisfied: pandas>=0.19 in /usr/local/lib/python3.7/dist-packages (from pmdarima) (1.1.5)\n",
            "Requirement already satisfied: urllib3 in /usr/local/lib/python3.7/dist-packages (from pmdarima) (1.24.3)\n",
            "Requirement already satisfied: joblib>=0.11 in /usr/local/lib/python3.7/dist-packages (from pmdarima) (1.0.1)\n",
            "Requirement already satisfied: Cython!=0.29.18,>=0.29 in /usr/local/lib/python3.7/dist-packages (from pmdarima) (0.29.24)\n",
            "Requirement already satisfied: scikit-learn>=0.22 in /usr/local/lib/python3.7/dist-packages (from pmdarima) (0.22.2.post1)\n",
            "Requirement already satisfied: scipy>=1.3.2 in /usr/local/lib/python3.7/dist-packages (from pmdarima) (1.4.1)\n",
            "Collecting statsmodels!=0.12.0,>=0.11\n",
            "  Downloading statsmodels-0.13.0-cp37-cp37m-manylinux_2_17_x86_64.manylinux2014_x86_64.whl (9.8 MB)\n",
            "\u001b[K     |████████████████████████████████| 9.8 MB 59.1 MB/s \n",
            "\u001b[?25hRequirement already satisfied: python-dateutil>=2.7.3 in /usr/local/lib/python3.7/dist-packages (from pandas>=0.19->pmdarima) (2.8.2)\n",
            "Requirement already satisfied: pytz>=2017.2 in /usr/local/lib/python3.7/dist-packages (from pandas>=0.19->pmdarima) (2018.9)\n",
            "Requirement already satisfied: six>=1.5 in /usr/local/lib/python3.7/dist-packages (from python-dateutil>=2.7.3->pandas>=0.19->pmdarima) (1.15.0)\n",
            "Requirement already satisfied: patsy>=0.5.2 in /usr/local/lib/python3.7/dist-packages (from statsmodels!=0.12.0,>=0.11->pmdarima) (0.5.2)\n",
            "Installing collected packages: statsmodels, pmdarima\n",
            "  Attempting uninstall: statsmodels\n",
            "    Found existing installation: statsmodels 0.10.2\n",
            "    Uninstalling statsmodels-0.10.2:\n",
            "      Successfully uninstalled statsmodels-0.10.2\n",
            "Successfully installed pmdarima-1.8.3 statsmodels-0.13.0\n"
          ]
        },
        {
          "output_type": "display_data",
          "data": {
            "application/vnd.colab-display-data+json": {
              "pip_warning": {
                "packages": [
                  "statsmodels"
                ]
              }
            }
          },
          "metadata": {}
        }
      ]
    },
    {
      "cell_type": "code",
      "metadata": {
        "colab": {
          "base_uri": "https://localhost:8080/"
        },
        "id": "Q3W4WJfvHoF_",
        "outputId": "a757064e-8ac2-46c5-9129-9f222d7fd838"
      },
      "source": [
        "import pmdarima as pm\n",
        "model=pm.auto_arima(df[\"Temp\"],m=1,seasonal=True, start_P=0,start_q=0,max_order=4,test='adf',error_action='ignore',suppress_warnings=True,stepwise=True,trace=True)"
      ],
      "execution_count": 52,
      "outputs": [
        {
          "output_type": "stream",
          "name": "stdout",
          "text": [
            "Performing stepwise search to minimize aic\n",
            " ARIMA(2,0,0)(0,0,0)[0] intercept   : AIC=17245.958, Time=1.06 sec\n",
            " ARIMA(0,0,0)(0,0,0)[0] intercept   : AIC=20611.139, Time=0.11 sec\n",
            " ARIMA(1,0,0)(0,0,0)[0] intercept   : AIC=17265.725, Time=0.33 sec\n",
            " ARIMA(0,0,1)(0,0,0)[0] intercept   : AIC=18554.160, Time=0.80 sec\n",
            " ARIMA(0,0,0)(0,0,0)[0]             : AIC=28436.596, Time=0.06 sec\n",
            " ARIMA(3,0,0)(0,0,0)[0] intercept   : AIC=17113.438, Time=1.51 sec\n",
            " ARIMA(4,0,0)(0,0,0)[0] intercept   : AIC=17030.851, Time=1.93 sec\n",
            " ARIMA(5,0,0)(0,0,0)[0] intercept   : AIC=16970.247, Time=2.36 sec\n",
            " ARIMA(5,0,1)(0,0,0)[0] intercept   : AIC=16781.481, Time=8.92 sec\n",
            " ARIMA(4,0,1)(0,0,0)[0] intercept   : AIC=16779.598, Time=7.36 sec\n",
            " ARIMA(3,0,1)(0,0,0)[0] intercept   : AIC=16777.600, Time=5.88 sec\n",
            " ARIMA(2,0,1)(0,0,0)[0] intercept   : AIC=16831.033, Time=4.32 sec\n",
            " ARIMA(3,0,2)(0,0,0)[0] intercept   : AIC=16780.222, Time=7.15 sec\n",
            " ARIMA(2,0,2)(0,0,0)[0] intercept   : AIC=16781.136, Time=4.96 sec\n",
            " ARIMA(4,0,2)(0,0,0)[0] intercept   : AIC=16781.448, Time=5.11 sec\n",
            " ARIMA(3,0,1)(0,0,0)[0]             : AIC=16790.341, Time=1.41 sec\n",
            "\n",
            "Best model:  ARIMA(3,0,1)(0,0,0)[0] intercept\n",
            "Total fit time: 53.316 seconds\n"
          ]
        }
      ]
    },
    {
      "cell_type": "code",
      "metadata": {
        "colab": {
          "base_uri": "https://localhost:8080/"
        },
        "id": "NO7vHQFAHyuW",
        "outputId": "b4b0e442-6c01-43c3-9ce4-1f17162a715e"
      },
      "source": [
        "result=model.summary()\n",
        "print(result)"
      ],
      "execution_count": 53,
      "outputs": [
        {
          "output_type": "stream",
          "name": "stdout",
          "text": [
            "                           Statespace Model Results                           \n",
            "==============================================================================\n",
            "Dep. Variable:                      y   No. Observations:                 3650\n",
            "Model:               SARIMAX(3, 0, 1)   Log Likelihood               -8382.800\n",
            "Date:                Thu, 07 Oct 2021   AIC                          16777.600\n",
            "Time:                        14:26:50   BIC                          16814.815\n",
            "Sample:                             0   HQIC                         16790.853\n",
            "                               - 3650                                         \n",
            "Covariance Type:                  opg                                         \n",
            "==============================================================================\n",
            "                 coef    std err          z      P>|z|      [0.025      0.975]\n",
            "------------------------------------------------------------------------------\n",
            "intercept      0.0562      0.018      3.128      0.002       0.021       0.091\n",
            "ar.L1          1.4851      0.018     80.342      0.000       1.449       1.521\n",
            "ar.L2         -0.6204      0.027    -23.368      0.000      -0.672      -0.568\n",
            "ar.L3          0.1304      0.018      7.386      0.000       0.096       0.165\n",
            "ma.L1         -0.8928      0.012    -76.064      0.000      -0.916      -0.870\n",
            "sigma2         5.7833      0.128     45.330      0.000       5.533       6.033\n",
            "===================================================================================\n",
            "Ljung-Box (Q):                       47.67   Jarque-Bera (JB):                16.70\n",
            "Prob(Q):                              0.19   Prob(JB):                         0.00\n",
            "Heteroskedasticity (H):               0.86   Skew:                             0.08\n",
            "Prob(H) (two-sided):                  0.01   Kurtosis:                         3.28\n",
            "===================================================================================\n",
            "\n",
            "Warnings:\n",
            "[1] Covariance matrix calculated using the outer product of gradients (complex-step).\n"
          ]
        }
      ]
    },
    {
      "cell_type": "code",
      "metadata": {
        "colab": {
          "base_uri": "https://localhost:8080/",
          "height": 455
        },
        "id": "LcBbMPWZL8fe",
        "outputId": "2f8a0610-53bf-4f02-b0bc-d3f2dcc20d81"
      },
      "source": [
        "df"
      ],
      "execution_count": 59,
      "outputs": [
        {
          "output_type": "execute_result",
          "data": {
            "text/html": [
              "<div>\n",
              "<style scoped>\n",
              "    .dataframe tbody tr th:only-of-type {\n",
              "        vertical-align: middle;\n",
              "    }\n",
              "\n",
              "    .dataframe tbody tr th {\n",
              "        vertical-align: top;\n",
              "    }\n",
              "\n",
              "    .dataframe thead th {\n",
              "        text-align: right;\n",
              "    }\n",
              "</style>\n",
              "<table border=\"1\" class=\"dataframe\">\n",
              "  <thead>\n",
              "    <tr style=\"text-align: right;\">\n",
              "      <th></th>\n",
              "      <th>Temp</th>\n",
              "      <th>Seasonality</th>\n",
              "    </tr>\n",
              "    <tr>\n",
              "      <th>Date</th>\n",
              "      <th></th>\n",
              "      <th></th>\n",
              "    </tr>\n",
              "  </thead>\n",
              "  <tbody>\n",
              "    <tr>\n",
              "      <th>1981-01-01</th>\n",
              "      <td>20.7</td>\n",
              "      <td>NaN</td>\n",
              "    </tr>\n",
              "    <tr>\n",
              "      <th>1981-01-02</th>\n",
              "      <td>17.9</td>\n",
              "      <td>NaN</td>\n",
              "    </tr>\n",
              "    <tr>\n",
              "      <th>1981-01-03</th>\n",
              "      <td>18.8</td>\n",
              "      <td>NaN</td>\n",
              "    </tr>\n",
              "    <tr>\n",
              "      <th>1981-01-04</th>\n",
              "      <td>14.6</td>\n",
              "      <td>NaN</td>\n",
              "    </tr>\n",
              "    <tr>\n",
              "      <th>1981-01-05</th>\n",
              "      <td>15.8</td>\n",
              "      <td>NaN</td>\n",
              "    </tr>\n",
              "    <tr>\n",
              "      <th>...</th>\n",
              "      <td>...</td>\n",
              "      <td>...</td>\n",
              "    </tr>\n",
              "    <tr>\n",
              "      <th>1990-12-27</th>\n",
              "      <td>14.0</td>\n",
              "      <td>0.6</td>\n",
              "    </tr>\n",
              "    <tr>\n",
              "      <th>1990-12-28</th>\n",
              "      <td>13.6</td>\n",
              "      <td>0.0</td>\n",
              "    </tr>\n",
              "    <tr>\n",
              "      <th>1990-12-29</th>\n",
              "      <td>13.5</td>\n",
              "      <td>-0.4</td>\n",
              "    </tr>\n",
              "    <tr>\n",
              "      <th>1990-12-30</th>\n",
              "      <td>15.7</td>\n",
              "      <td>-1.5</td>\n",
              "    </tr>\n",
              "    <tr>\n",
              "      <th>1990-12-31</th>\n",
              "      <td>13.0</td>\n",
              "      <td>-1.7</td>\n",
              "    </tr>\n",
              "  </tbody>\n",
              "</table>\n",
              "<p>3650 rows × 2 columns</p>\n",
              "</div>"
            ],
            "text/plain": [
              "            Temp  Seasonality\n",
              "Date                         \n",
              "1981-01-01  20.7          NaN\n",
              "1981-01-02  17.9          NaN\n",
              "1981-01-03  18.8          NaN\n",
              "1981-01-04  14.6          NaN\n",
              "1981-01-05  15.8          NaN\n",
              "...          ...          ...\n",
              "1990-12-27  14.0          0.6\n",
              "1990-12-28  13.6          0.0\n",
              "1990-12-29  13.5         -0.4\n",
              "1990-12-30  15.7         -1.5\n",
              "1990-12-31  13.0         -1.7\n",
              "\n",
              "[3650 rows x 2 columns]"
            ]
          },
          "metadata": {},
          "execution_count": 59
        }
      ]
    },
    {
      "cell_type": "code",
      "metadata": {
        "id": "6Io7AeKFL5Rn"
      },
      "source": [
        "df1=df.resample('M').mean()"
      ],
      "execution_count": 60,
      "outputs": []
    },
    {
      "cell_type": "code",
      "metadata": {
        "colab": {
          "base_uri": "https://localhost:8080/",
          "height": 1000
        },
        "id": "G30Tlxv-Ku7S",
        "outputId": "d4f101fb-5b3d-4d49-d57e-d1b8aef67451"
      },
      "source": [
        "df1.tail(30)"
      ],
      "execution_count": 64,
      "outputs": [
        {
          "output_type": "execute_result",
          "data": {
            "text/html": [
              "<div>\n",
              "<style scoped>\n",
              "    .dataframe tbody tr th:only-of-type {\n",
              "        vertical-align: middle;\n",
              "    }\n",
              "\n",
              "    .dataframe tbody tr th {\n",
              "        vertical-align: top;\n",
              "    }\n",
              "\n",
              "    .dataframe thead th {\n",
              "        text-align: right;\n",
              "    }\n",
              "</style>\n",
              "<table border=\"1\" class=\"dataframe\">\n",
              "  <thead>\n",
              "    <tr style=\"text-align: right;\">\n",
              "      <th></th>\n",
              "      <th>Temp</th>\n",
              "      <th>Seasonality</th>\n",
              "    </tr>\n",
              "    <tr>\n",
              "      <th>Date</th>\n",
              "      <th></th>\n",
              "      <th></th>\n",
              "    </tr>\n",
              "  </thead>\n",
              "  <tbody>\n",
              "    <tr>\n",
              "      <th>1988-07-31</th>\n",
              "      <td>8.232258</td>\n",
              "      <td>0.070968</td>\n",
              "    </tr>\n",
              "    <tr>\n",
              "      <th>1988-08-31</th>\n",
              "      <td>8.725806</td>\n",
              "      <td>0.232258</td>\n",
              "    </tr>\n",
              "    <tr>\n",
              "      <th>1988-09-30</th>\n",
              "      <td>9.883333</td>\n",
              "      <td>0.586667</td>\n",
              "    </tr>\n",
              "    <tr>\n",
              "      <th>1988-10-31</th>\n",
              "      <td>10.890323</td>\n",
              "      <td>0.393548</td>\n",
              "    </tr>\n",
              "    <tr>\n",
              "      <th>1988-11-30</th>\n",
              "      <td>12.253333</td>\n",
              "      <td>0.493333</td>\n",
              "    </tr>\n",
              "    <tr>\n",
              "      <th>1988-12-31</th>\n",
              "      <td>15.436667</td>\n",
              "      <td>0.703333</td>\n",
              "    </tr>\n",
              "    <tr>\n",
              "      <th>1989-01-31</th>\n",
              "      <td>15.180645</td>\n",
              "      <td>0.641935</td>\n",
              "    </tr>\n",
              "    <tr>\n",
              "      <th>1989-02-28</th>\n",
              "      <td>16.371429</td>\n",
              "      <td>0.103571</td>\n",
              "    </tr>\n",
              "    <tr>\n",
              "      <th>1989-03-31</th>\n",
              "      <td>15.803226</td>\n",
              "      <td>-1.209677</td>\n",
              "    </tr>\n",
              "    <tr>\n",
              "      <th>1989-04-30</th>\n",
              "      <td>12.563333</td>\n",
              "      <td>-0.736667</td>\n",
              "    </tr>\n",
              "    <tr>\n",
              "      <th>1989-05-31</th>\n",
              "      <td>10.725806</td>\n",
              "      <td>-0.693548</td>\n",
              "    </tr>\n",
              "    <tr>\n",
              "      <th>1989-06-30</th>\n",
              "      <td>6.560000</td>\n",
              "      <td>-1.850000</td>\n",
              "    </tr>\n",
              "    <tr>\n",
              "      <th>1989-07-31</th>\n",
              "      <td>6.332258</td>\n",
              "      <td>0.541935</td>\n",
              "    </tr>\n",
              "    <tr>\n",
              "      <th>1989-08-31</th>\n",
              "      <td>6.770968</td>\n",
              "      <td>0.054839</td>\n",
              "    </tr>\n",
              "    <tr>\n",
              "      <th>1989-09-30</th>\n",
              "      <td>8.486667</td>\n",
              "      <td>1.000000</td>\n",
              "    </tr>\n",
              "    <tr>\n",
              "      <th>1989-10-31</th>\n",
              "      <td>9.867742</td>\n",
              "      <td>0.551613</td>\n",
              "    </tr>\n",
              "    <tr>\n",
              "      <th>1989-11-30</th>\n",
              "      <td>12.876667</td>\n",
              "      <td>1.833333</td>\n",
              "    </tr>\n",
              "    <tr>\n",
              "      <th>1989-12-31</th>\n",
              "      <td>13.951613</td>\n",
              "      <td>-0.748387</td>\n",
              "    </tr>\n",
              "    <tr>\n",
              "      <th>1990-01-31</th>\n",
              "      <td>15.577419</td>\n",
              "      <td>1.051613</td>\n",
              "    </tr>\n",
              "    <tr>\n",
              "      <th>1990-02-28</th>\n",
              "      <td>15.417857</td>\n",
              "      <td>0.285714</td>\n",
              "    </tr>\n",
              "    <tr>\n",
              "      <th>1990-03-31</th>\n",
              "      <td>14.835484</td>\n",
              "      <td>-0.558065</td>\n",
              "    </tr>\n",
              "    <tr>\n",
              "      <th>1990-04-30</th>\n",
              "      <td>13.433333</td>\n",
              "      <td>-1.203333</td>\n",
              "    </tr>\n",
              "    <tr>\n",
              "      <th>1990-05-31</th>\n",
              "      <td>9.748387</td>\n",
              "      <td>-1.658065</td>\n",
              "    </tr>\n",
              "    <tr>\n",
              "      <th>1990-06-30</th>\n",
              "      <td>7.720000</td>\n",
              "      <td>-0.080000</td>\n",
              "    </tr>\n",
              "    <tr>\n",
              "      <th>1990-07-31</th>\n",
              "      <td>8.183871</td>\n",
              "      <td>0.274194</td>\n",
              "    </tr>\n",
              "    <tr>\n",
              "      <th>1990-08-31</th>\n",
              "      <td>7.825806</td>\n",
              "      <td>-0.219355</td>\n",
              "    </tr>\n",
              "    <tr>\n",
              "      <th>1990-09-30</th>\n",
              "      <td>9.166667</td>\n",
              "      <td>0.973333</td>\n",
              "    </tr>\n",
              "    <tr>\n",
              "      <th>1990-10-31</th>\n",
              "      <td>11.345161</td>\n",
              "      <td>0.967742</td>\n",
              "    </tr>\n",
              "    <tr>\n",
              "      <th>1990-11-30</th>\n",
              "      <td>12.656667</td>\n",
              "      <td>-0.226667</td>\n",
              "    </tr>\n",
              "    <tr>\n",
              "      <th>1990-12-31</th>\n",
              "      <td>14.367742</td>\n",
              "      <td>0.616129</td>\n",
              "    </tr>\n",
              "  </tbody>\n",
              "</table>\n",
              "</div>"
            ],
            "text/plain": [
              "                 Temp  Seasonality\n",
              "Date                              \n",
              "1988-07-31   8.232258     0.070968\n",
              "1988-08-31   8.725806     0.232258\n",
              "1988-09-30   9.883333     0.586667\n",
              "1988-10-31  10.890323     0.393548\n",
              "1988-11-30  12.253333     0.493333\n",
              "1988-12-31  15.436667     0.703333\n",
              "1989-01-31  15.180645     0.641935\n",
              "1989-02-28  16.371429     0.103571\n",
              "1989-03-31  15.803226    -1.209677\n",
              "1989-04-30  12.563333    -0.736667\n",
              "1989-05-31  10.725806    -0.693548\n",
              "1989-06-30   6.560000    -1.850000\n",
              "1989-07-31   6.332258     0.541935\n",
              "1989-08-31   6.770968     0.054839\n",
              "1989-09-30   8.486667     1.000000\n",
              "1989-10-31   9.867742     0.551613\n",
              "1989-11-30  12.876667     1.833333\n",
              "1989-12-31  13.951613    -0.748387\n",
              "1990-01-31  15.577419     1.051613\n",
              "1990-02-28  15.417857     0.285714\n",
              "1990-03-31  14.835484    -0.558065\n",
              "1990-04-30  13.433333    -1.203333\n",
              "1990-05-31   9.748387    -1.658065\n",
              "1990-06-30   7.720000    -0.080000\n",
              "1990-07-31   8.183871     0.274194\n",
              "1990-08-31   7.825806    -0.219355\n",
              "1990-09-30   9.166667     0.973333\n",
              "1990-10-31  11.345161     0.967742\n",
              "1990-11-30  12.656667    -0.226667\n",
              "1990-12-31  14.367742     0.616129"
            ]
          },
          "metadata": {},
          "execution_count": 64
        }
      ]
    },
    {
      "cell_type": "code",
      "metadata": {
        "colab": {
          "base_uri": "https://localhost:8080/",
          "height": 283
        },
        "id": "A8LH6OY-MjeW",
        "outputId": "a906690c-2fa6-4736-aee2-295043974a9d"
      },
      "source": [
        "plt.plot(df1['Temp'])"
      ],
      "execution_count": 62,
      "outputs": [
        {
          "output_type": "execute_result",
          "data": {
            "text/plain": [
              "[<matplotlib.lines.Line2D at 0x7ff4fab5f750>]"
            ]
          },
          "metadata": {},
          "execution_count": 62
        },
        {
          "output_type": "display_data",
          "data": {
            "image/png": "[encoded data removed]",
            "text/plain": [
              "<Figure size 432x288 with 1 Axes>"
            ]
          },
          "metadata": {
            "needs_background": "light"
          }
        }
      ]
    },
    {
      "cell_type": "code",
      "metadata": {
        "id": "2scPD29yMuKj"
      },
      "source": [
        "train=df1[(df1.index.get_level_values(0) >=\"1981-01-31\") & (df1.index.get_level_values(0) <=\"1988-12-31\")]\n",
        "test=df1[(df1.index.get_level_values(0) >=\"1989-01-31\")]"
      ],
      "execution_count": 67,
      "outputs": []
    },
    {
      "cell_type": "code",
      "metadata": {
        "colab": {
          "base_uri": "https://localhost:8080/"
        },
        "id": "gr8iFeJHNZGX",
        "outputId": "4117b764-b632-48c3-c31a-e8972b0cce01"
      },
      "source": [
        "train.shape"
      ],
      "execution_count": 68,
      "outputs": [
        {
          "output_type": "execute_result",
          "data": {
            "text/plain": [
              "(96, 2)"
            ]
          },
          "metadata": {},
          "execution_count": 68
        }
      ]
    },
    {
      "cell_type": "code",
      "metadata": {
        "colab": {
          "base_uri": "https://localhost:8080/"
        },
        "id": "nYMWZdEAN-XJ",
        "outputId": "6436e2af-70d8-475d-bd9f-2b99a82de1a4"
      },
      "source": [
        "test.shape"
      ],
      "execution_count": 69,
      "outputs": [
        {
          "output_type": "execute_result",
          "data": {
            "text/plain": [
              "(24, 2)"
            ]
          },
          "metadata": {},
          "execution_count": 69
        }
      ]
    },
    {
      "cell_type": "code",
      "metadata": {
        "colab": {
          "base_uri": "https://localhost:8080/"
        },
        "id": "QT0gJmijOALn",
        "outputId": "93516b12-ee09-4817-f7d3-993631422ba7"
      },
      "source": [
        "model.fit(train[\"Temp\"])"
      ],
      "execution_count": 70,
      "outputs": [
        {
          "output_type": "execute_result",
          "data": {
            "text/plain": [
              "ARIMA(maxiter=50, method='lbfgs', order=(3, 0, 1), out_of_sample_size=0,\n",
              "      scoring='mse', scoring_args={}, seasonal_order=(0, 0, 0, 0),\n",
              "      start_params=None, suppress_warnings=True, trend=None,\n",
              "      with_intercept=True)"
            ]
          },
          "metadata": {},
          "execution_count": 70
        }
      ]
    },
    {
      "cell_type": "code",
      "metadata": {
        "id": "vVZHmxzHONd3"
      },
      "source": [
        "forcast=model.predict(n_periods=24, return_conf_int=True)"
      ],
      "execution_count": 74,
      "outputs": []
    },
    {
      "cell_type": "code",
      "metadata": {
        "colab": {
          "base_uri": "https://localhost:8080/"
        },
        "id": "3mZCz6BJOcRw",
        "outputId": "02f8b413-172e-4f6f-f15e-ca73b3c785d6"
      },
      "source": [
        "forcast"
      ],
      "execution_count": 75,
      "outputs": [
        {
          "output_type": "execute_result",
          "data": {
            "text/plain": [
              "(array([14.54532182, 14.01207147, 12.16777497, 10.34636544,  8.67503034,\n",
              "         7.74807447,  7.71401145,  8.5803487 , 10.07117282, 11.77514032,\n",
              "        13.230629  , 14.06252577, 14.07274011, 13.28871736, 11.94684735,\n",
              "        10.42276502,  9.12660664,  8.3932616 ,  8.39640138,  9.10838557,\n",
              "        10.31490008, 11.67849953, 12.83243171, 13.47880843]),\n",
              " array([[12.18064521, 16.90999844],\n",
              "        [11.30812808, 16.71601487],\n",
              "        [ 9.22928265, 15.10626729],\n",
              "        [ 7.40365806, 13.28907282],\n",
              "        [ 5.67091653, 11.67914414],\n",
              "        [ 4.48129346, 11.01485547],\n",
              "        [ 4.09758429, 11.33043861],\n",
              "        [ 4.69530947, 12.46538793],\n",
              "        [ 6.08156832, 14.06077733],\n",
              "        [ 7.7815753 , 15.76870533],\n",
              "        [ 9.19600599, 17.26525201],\n",
              "        [ 9.86833671, 18.25671482],\n",
              "        [ 9.65302728, 18.49245295],\n",
              "        [ 8.69195188, 17.88548283],\n",
              "        [ 7.28039096, 16.61330375],\n",
              "        [ 5.75398001, 15.09155003],\n",
              "        [ 4.42853801, 13.82467527],\n",
              "        [ 3.583222  , 13.2033012 ],\n",
              "        [ 3.4270464 , 13.36575636],\n",
              "        [ 4.01300541, 14.20376572],\n",
              "        [ 5.17021908, 15.45958109],\n",
              "        [ 6.5323764 , 16.82462266],\n",
              "        [ 7.6641841 , 18.00067931],\n",
              "        [ 8.22774355, 18.72987331]]))"
            ]
          },
          "metadata": {},
          "execution_count": 75
        }
      ]
    },
    {
      "cell_type": "code",
      "metadata": {
        "id": "Mz8A_Tk1Oe9x"
      },
      "source": [
        "forcast_df=pd.DataFrame(forcast[0],index=test.index,columns=['Prediction'])"
      ],
      "execution_count": 76,
      "outputs": []
    },
    {
      "cell_type": "code",
      "metadata": {
        "colab": {
          "base_uri": "https://localhost:8080/",
          "height": 297
        },
        "id": "fip7zrPFO_PV",
        "outputId": "23515b7b-de52-478d-cfe2-f624b48acb91"
      },
      "source": [
        "pd.concat([df1['Temp'],forcast_df],axis=1).plot()"
      ],
      "execution_count": 78,
      "outputs": [
        {
          "output_type": "execute_result",
          "data": {
            "text/plain": [
              "<matplotlib.axes._subplots.AxesSubplot at 0x7ff4fab4b1d0>"
            ]
          },
          "metadata": {},
          "execution_count": 78
        },
        {
          "output_type": "display_data",
          "data": {
            "image/png": "[encoded data removed]",
            "text/plain": [
              "<Figure size 432x288 with 1 Axes>"
            ]
          },
          "metadata": {
            "needs_background": "light"
          }
        }
      ]
    },
    {
      "cell_type": "code",
      "metadata": {
        "id": "3FMDCjSNPH08"
      },
      "source": [
        "forcast1=model.predict(n_periods=24, return_conf_int=True)"
      ],
      "execution_count": 79,
      "outputs": []
    },
    {
      "cell_type": "code",
      "metadata": {
        "colab": {
          "base_uri": "https://localhost:8080/",
          "height": 237
        },
        "id": "cFM69p5kPiFn",
        "outputId": "c2a95f8f-2912-4daa-9470-5b2e6cffd786"
      },
      "source": [
        "df1.tail()"
      ],
      "execution_count": 87,
      "outputs": [
        {
          "output_type": "execute_result",
          "data": {
            "text/html": [
              "<div>\n",
              "<style scoped>\n",
              "    .dataframe tbody tr th:only-of-type {\n",
              "        vertical-align: middle;\n",
              "    }\n",
              "\n",
              "    .dataframe tbody tr th {\n",
              "        vertical-align: top;\n",
              "    }\n",
              "\n",
              "    .dataframe thead th {\n",
              "        text-align: right;\n",
              "    }\n",
              "</style>\n",
              "<table border=\"1\" class=\"dataframe\">\n",
              "  <thead>\n",
              "    <tr style=\"text-align: right;\">\n",
              "      <th></th>\n",
              "      <th>Temp</th>\n",
              "      <th>Seasonality</th>\n",
              "    </tr>\n",
              "    <tr>\n",
              "      <th>Date</th>\n",
              "      <th></th>\n",
              "      <th></th>\n",
              "    </tr>\n",
              "  </thead>\n",
              "  <tbody>\n",
              "    <tr>\n",
              "      <th>1990-08-31</th>\n",
              "      <td>7.825806</td>\n",
              "      <td>-0.219355</td>\n",
              "    </tr>\n",
              "    <tr>\n",
              "      <th>1990-09-30</th>\n",
              "      <td>9.166667</td>\n",
              "      <td>0.973333</td>\n",
              "    </tr>\n",
              "    <tr>\n",
              "      <th>1990-10-31</th>\n",
              "      <td>11.345161</td>\n",
              "      <td>0.967742</td>\n",
              "    </tr>\n",
              "    <tr>\n",
              "      <th>1990-11-30</th>\n",
              "      <td>12.656667</td>\n",
              "      <td>-0.226667</td>\n",
              "    </tr>\n",
              "    <tr>\n",
              "      <th>1990-12-31</th>\n",
              "      <td>14.367742</td>\n",
              "      <td>0.616129</td>\n",
              "    </tr>\n",
              "  </tbody>\n",
              "</table>\n",
              "</div>"
            ],
            "text/plain": [
              "                 Temp  Seasonality\n",
              "Date                              \n",
              "1990-08-31   7.825806    -0.219355\n",
              "1990-09-30   9.166667     0.973333\n",
              "1990-10-31  11.345161     0.967742\n",
              "1990-11-30  12.656667    -0.226667\n",
              "1990-12-31  14.367742     0.616129"
            ]
          },
          "metadata": {},
          "execution_count": 87
        }
      ]
    },
    {
      "cell_type": "code",
      "metadata": {
        "colab": {
          "base_uri": "https://localhost:8080/"
        },
        "id": "LfI8-Wt7PVi1",
        "outputId": "42ea62f2-1e5f-4391-e10a-a2b8f26d29e4"
      },
      "source": [
        "\n",
        "forcast1"
      ],
      "execution_count": 80,
      "outputs": [
        {
          "output_type": "execute_result",
          "data": {
            "text/plain": [
              "(array([14.54532182, 14.01207147, 12.16777497, 10.34636544,  8.67503034,\n",
              "         7.74807447,  7.71401145,  8.5803487 , 10.07117282, 11.77514032,\n",
              "        13.230629  , 14.06252577, 14.07274011, 13.28871736, 11.94684735,\n",
              "        10.42276502,  9.12660664,  8.3932616 ,  8.39640138,  9.10838557,\n",
              "        10.31490008, 11.67849953, 12.83243171, 13.47880843]),\n",
              " array([[12.18064521, 16.90999844],\n",
              "        [11.30812808, 16.71601487],\n",
              "        [ 9.22928265, 15.10626729],\n",
              "        [ 7.40365806, 13.28907282],\n",
              "        [ 5.67091653, 11.67914414],\n",
              "        [ 4.48129346, 11.01485547],\n",
              "        [ 4.09758429, 11.33043861],\n",
              "        [ 4.69530947, 12.46538793],\n",
              "        [ 6.08156832, 14.06077733],\n",
              "        [ 7.7815753 , 15.76870533],\n",
              "        [ 9.19600599, 17.26525201],\n",
              "        [ 9.86833671, 18.25671482],\n",
              "        [ 9.65302728, 18.49245295],\n",
              "        [ 8.69195188, 17.88548283],\n",
              "        [ 7.28039096, 16.61330375],\n",
              "        [ 5.75398001, 15.09155003],\n",
              "        [ 4.42853801, 13.82467527],\n",
              "        [ 3.583222  , 13.2033012 ],\n",
              "        [ 3.4270464 , 13.36575636],\n",
              "        [ 4.01300541, 14.20376572],\n",
              "        [ 5.17021908, 15.45958109],\n",
              "        [ 6.5323764 , 16.82462266],\n",
              "        [ 7.6641841 , 18.00067931],\n",
              "        [ 8.22774355, 18.72987331]]))"
            ]
          },
          "metadata": {},
          "execution_count": 80
        }
      ]
    },
    {
      "cell_type": "code",
      "metadata": {
        "id": "GSsUAEwaPXWd"
      },
      "source": [
        "forcast_range=pd.date_range(start='1990-08-31',periods=24,freq='M')"
      ],
      "execution_count": 91,
      "outputs": []
    },
    {
      "cell_type": "code",
      "metadata": {
        "id": "50LR6dBkPpzQ"
      },
      "source": [
        "forcast1_df=pd.DataFrame(forcast1[0],index=forcast_range,columns=['Prediction'])"
      ],
      "execution_count": 92,
      "outputs": []
    },
    {
      "cell_type": "code",
      "metadata": {
        "colab": {
          "base_uri": "https://localhost:8080/",
          "height": 297
        },
        "id": "SLtCTsZePx0t",
        "outputId": "f1a1ee39-59b6-462a-ff6a-e6f6afced458"
      },
      "source": [
        "pd.concat([df1['Temp'],forcast1_df],axis=1).plot()"
      ],
      "execution_count": 93,
      "outputs": [
        {
          "output_type": "execute_result",
          "data": {
            "text/plain": [
              "<matplotlib.axes._subplots.AxesSubplot at 0x7ff4fa73d750>"
            ]
          },
          "metadata": {},
          "execution_count": 93
        },
        {
          "output_type": "display_data",
          "data": {
            "image/png": "[encoded data removed]",
            "text/plain": [
              "<Figure size 432x288 with 1 Axes>"
            ]
          },
          "metadata": {
            "needs_background": "light"
          }
        }
      ]
    },
    {
      "cell_type": "code",
      "metadata": {
        "id": "SOnZO0BqPzx8"
      },
      "source": [
        ""
      ],
      "execution_count": null,
      "outputs": []
    }
  ]
}