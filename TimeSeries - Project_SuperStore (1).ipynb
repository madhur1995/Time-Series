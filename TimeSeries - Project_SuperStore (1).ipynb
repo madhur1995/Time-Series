{
 "cells": [
  {
   "cell_type": "code",
   "execution_count": 1,
   "id": "938fa758",
   "metadata": {},
   "outputs": [],
   "source": [
    "import os\n",
    "os.chdir(\"C:\\\\Users\\\\Lenovo\\\\Desktop\\\\New folder\\\\LetsUpgrade_Python_Aug\\\\TSA\")"
   ]
  },
  {
   "cell_type": "code",
   "execution_count": 2,
   "id": "76cc5451",
   "metadata": {},
   "outputs": [],
   "source": [
    "import numpy as np\n",
    "import pandas as pd\n",
    "import matplotlib.pyplot as plt\n",
    "%matplotlib inline\n",
    "import seaborn as sns\n",
    "plt.show() # warning msg\n",
    "import itertools\n",
    "# & - creating,  % - calling : SAS - micro"
   ]
  },
  {
   "cell_type": "code",
   "execution_count": 3,
   "id": "c58a4175",
   "metadata": {},
   "outputs": [
    {
     "data": {
      "text/html": [
       "<div>\n",
       "<style scoped>\n",
       "    .dataframe tbody tr th:only-of-type {\n",
       "        vertical-align: middle;\n",
       "    }\n",
       "\n",
       "    .dataframe tbody tr th {\n",
       "        vertical-align: top;\n",
       "    }\n",
       "\n",
       "    .dataframe thead th {\n",
       "        text-align: right;\n",
       "    }\n",
       "</style>\n",
       "<table border=\"1\" class=\"dataframe\">\n",
       "  <thead>\n",
       "    <tr style=\"text-align: right;\">\n",
       "      <th></th>\n",
       "      <th>Row ID</th>\n",
       "      <th>Order ID</th>\n",
       "      <th>Order Date</th>\n",
       "      <th>Ship Date</th>\n",
       "      <th>Ship Mode</th>\n",
       "      <th>Customer ID</th>\n",
       "      <th>Customer Name</th>\n",
       "      <th>Segment</th>\n",
       "      <th>Country</th>\n",
       "      <th>City</th>\n",
       "      <th>...</th>\n",
       "      <th>Postal Code</th>\n",
       "      <th>Region</th>\n",
       "      <th>Product ID</th>\n",
       "      <th>Category</th>\n",
       "      <th>Sub-Category</th>\n",
       "      <th>Product Name</th>\n",
       "      <th>Sales</th>\n",
       "      <th>Quantity</th>\n",
       "      <th>Discount</th>\n",
       "      <th>Profit</th>\n",
       "    </tr>\n",
       "  </thead>\n",
       "  <tbody>\n",
       "    <tr>\n",
       "      <th>0</th>\n",
       "      <td>1</td>\n",
       "      <td>CA-2016-152156</td>\n",
       "      <td>2016-11-08</td>\n",
       "      <td>2016-11-11</td>\n",
       "      <td>Second Class</td>\n",
       "      <td>CG-12520</td>\n",
       "      <td>Claire Gute</td>\n",
       "      <td>Consumer</td>\n",
       "      <td>United States</td>\n",
       "      <td>Henderson</td>\n",
       "      <td>...</td>\n",
       "      <td>42420</td>\n",
       "      <td>South</td>\n",
       "      <td>FUR-BO-10001798</td>\n",
       "      <td>Furniture</td>\n",
       "      <td>Bookcases</td>\n",
       "      <td>Bush Somerset Collection Bookcase</td>\n",
       "      <td>261.9600</td>\n",
       "      <td>2</td>\n",
       "      <td>0.00</td>\n",
       "      <td>41.9136</td>\n",
       "    </tr>\n",
       "    <tr>\n",
       "      <th>1</th>\n",
       "      <td>2</td>\n",
       "      <td>CA-2016-152156</td>\n",
       "      <td>2016-11-08</td>\n",
       "      <td>2016-11-11</td>\n",
       "      <td>Second Class</td>\n",
       "      <td>CG-12520</td>\n",
       "      <td>Claire Gute</td>\n",
       "      <td>Consumer</td>\n",
       "      <td>United States</td>\n",
       "      <td>Henderson</td>\n",
       "      <td>...</td>\n",
       "      <td>42420</td>\n",
       "      <td>South</td>\n",
       "      <td>FUR-CH-10000454</td>\n",
       "      <td>Furniture</td>\n",
       "      <td>Chairs</td>\n",
       "      <td>Hon Deluxe Fabric Upholstered Stacking Chairs,...</td>\n",
       "      <td>731.9400</td>\n",
       "      <td>3</td>\n",
       "      <td>0.00</td>\n",
       "      <td>219.5820</td>\n",
       "    </tr>\n",
       "    <tr>\n",
       "      <th>2</th>\n",
       "      <td>3</td>\n",
       "      <td>CA-2016-138688</td>\n",
       "      <td>2016-06-12</td>\n",
       "      <td>2016-06-16</td>\n",
       "      <td>Second Class</td>\n",
       "      <td>DV-13045</td>\n",
       "      <td>Darrin Van Huff</td>\n",
       "      <td>Corporate</td>\n",
       "      <td>United States</td>\n",
       "      <td>Los Angeles</td>\n",
       "      <td>...</td>\n",
       "      <td>90036</td>\n",
       "      <td>West</td>\n",
       "      <td>OFF-LA-10000240</td>\n",
       "      <td>Office Supplies</td>\n",
       "      <td>Labels</td>\n",
       "      <td>Self-Adhesive Address Labels for Typewriters b...</td>\n",
       "      <td>14.6200</td>\n",
       "      <td>2</td>\n",
       "      <td>0.00</td>\n",
       "      <td>6.8714</td>\n",
       "    </tr>\n",
       "    <tr>\n",
       "      <th>3</th>\n",
       "      <td>4</td>\n",
       "      <td>US-2015-108966</td>\n",
       "      <td>2015-10-11</td>\n",
       "      <td>2015-10-18</td>\n",
       "      <td>Standard Class</td>\n",
       "      <td>SO-20335</td>\n",
       "      <td>Sean O'Donnell</td>\n",
       "      <td>Consumer</td>\n",
       "      <td>United States</td>\n",
       "      <td>Fort Lauderdale</td>\n",
       "      <td>...</td>\n",
       "      <td>33311</td>\n",
       "      <td>South</td>\n",
       "      <td>FUR-TA-10000577</td>\n",
       "      <td>Furniture</td>\n",
       "      <td>Tables</td>\n",
       "      <td>Bretford CR4500 Series Slim Rectangular Table</td>\n",
       "      <td>957.5775</td>\n",
       "      <td>5</td>\n",
       "      <td>0.45</td>\n",
       "      <td>-383.0310</td>\n",
       "    </tr>\n",
       "    <tr>\n",
       "      <th>4</th>\n",
       "      <td>5</td>\n",
       "      <td>US-2015-108966</td>\n",
       "      <td>2015-10-11</td>\n",
       "      <td>2015-10-18</td>\n",
       "      <td>Standard Class</td>\n",
       "      <td>SO-20335</td>\n",
       "      <td>Sean O'Donnell</td>\n",
       "      <td>Consumer</td>\n",
       "      <td>United States</td>\n",
       "      <td>Fort Lauderdale</td>\n",
       "      <td>...</td>\n",
       "      <td>33311</td>\n",
       "      <td>South</td>\n",
       "      <td>OFF-ST-10000760</td>\n",
       "      <td>Office Supplies</td>\n",
       "      <td>Storage</td>\n",
       "      <td>Eldon Fold 'N Roll Cart System</td>\n",
       "      <td>22.3680</td>\n",
       "      <td>2</td>\n",
       "      <td>0.20</td>\n",
       "      <td>2.5164</td>\n",
       "    </tr>\n",
       "  </tbody>\n",
       "</table>\n",
       "<p>5 rows × 21 columns</p>\n",
       "</div>"
      ],
      "text/plain": [
       "   Row ID        Order ID Order Date  Ship Date       Ship Mode Customer ID  \\\n",
       "0       1  CA-2016-152156 2016-11-08 2016-11-11    Second Class    CG-12520   \n",
       "1       2  CA-2016-152156 2016-11-08 2016-11-11    Second Class    CG-12520   \n",
       "2       3  CA-2016-138688 2016-06-12 2016-06-16    Second Class    DV-13045   \n",
       "3       4  US-2015-108966 2015-10-11 2015-10-18  Standard Class    SO-20335   \n",
       "4       5  US-2015-108966 2015-10-11 2015-10-18  Standard Class    SO-20335   \n",
       "\n",
       "     Customer Name    Segment        Country             City  ...  \\\n",
       "0      Claire Gute   Consumer  United States        Henderson  ...   \n",
       "1      Claire Gute   Consumer  United States        Henderson  ...   \n",
       "2  Darrin Van Huff  Corporate  United States      Los Angeles  ...   \n",
       "3   Sean O'Donnell   Consumer  United States  Fort Lauderdale  ...   \n",
       "4   Sean O'Donnell   Consumer  United States  Fort Lauderdale  ...   \n",
       "\n",
       "  Postal Code  Region       Product ID         Category Sub-Category  \\\n",
       "0       42420   South  FUR-BO-10001798        Furniture    Bookcases   \n",
       "1       42420   South  FUR-CH-10000454        Furniture       Chairs   \n",
       "2       90036    West  OFF-LA-10000240  Office Supplies       Labels   \n",
       "3       33311   South  FUR-TA-10000577        Furniture       Tables   \n",
       "4       33311   South  OFF-ST-10000760  Office Supplies      Storage   \n",
       "\n",
       "                                        Product Name     Sales  Quantity  \\\n",
       "0                  Bush Somerset Collection Bookcase  261.9600         2   \n",
       "1  Hon Deluxe Fabric Upholstered Stacking Chairs,...  731.9400         3   \n",
       "2  Self-Adhesive Address Labels for Typewriters b...   14.6200         2   \n",
       "3      Bretford CR4500 Series Slim Rectangular Table  957.5775         5   \n",
       "4                     Eldon Fold 'N Roll Cart System   22.3680         2   \n",
       "\n",
       "   Discount    Profit  \n",
       "0      0.00   41.9136  \n",
       "1      0.00  219.5820  \n",
       "2      0.00    6.8714  \n",
       "3      0.45 -383.0310  \n",
       "4      0.20    2.5164  \n",
       "\n",
       "[5 rows x 21 columns]"
      ]
     },
     "execution_count": 3,
     "metadata": {},
     "output_type": "execute_result"
    }
   ],
   "source": [
    "# importing the data\n",
    "dataset = pd.read_excel(\"Superstore.xls\")\n",
    "dataset.head()"
   ]
  },
  {
   "cell_type": "code",
   "execution_count": 4,
   "id": "ec1a73d6",
   "metadata": {},
   "outputs": [
    {
     "data": {
      "text/plain": [
       "Row ID                    int64\n",
       "Order ID                 object\n",
       "Order Date       datetime64[ns]\n",
       "Ship Date        datetime64[ns]\n",
       "Ship Mode                object\n",
       "Customer ID              object\n",
       "Customer Name            object\n",
       "Segment                  object\n",
       "Country                  object\n",
       "City                     object\n",
       "State                    object\n",
       "Postal Code               int64\n",
       "Region                   object\n",
       "Product ID               object\n",
       "Category                 object\n",
       "Sub-Category             object\n",
       "Product Name             object\n",
       "Sales                   float64\n",
       "Quantity                  int64\n",
       "Discount                float64\n",
       "Profit                  float64\n",
       "dtype: object"
      ]
     },
     "execution_count": 4,
     "metadata": {},
     "output_type": "execute_result"
    }
   ],
   "source": [
    "dataset.dtypes"
   ]
  },
  {
   "cell_type": "code",
   "execution_count": 5,
   "id": "50199096",
   "metadata": {},
   "outputs": [],
   "source": [
    "# if datetime comes object formate then pls use below syntax\n",
    "#dataset['Order Date'] = pd.to_datetime(dataset['Order Date'])"
   ]
  },
  {
   "cell_type": "code",
   "execution_count": 5,
   "id": "5007c108",
   "metadata": {},
   "outputs": [
    {
     "data": {
      "text/plain": [
       "{'Furniture', 'Office Supplies', 'Technology'}"
      ]
     },
     "execution_count": 5,
     "metadata": {},
     "output_type": "execute_result"
    }
   ],
   "source": [
    "set(dataset['Category'])"
   ]
  },
  {
   "cell_type": "code",
   "execution_count": 6,
   "id": "699f3b2a",
   "metadata": {},
   "outputs": [],
   "source": [
    "Furniture = dataset.loc[dataset['Category']=='Furniture']"
   ]
  },
  {
   "cell_type": "code",
   "execution_count": 8,
   "id": "405a1c0c",
   "metadata": {},
   "outputs": [
    {
     "data": {
      "text/html": [
       "<div>\n",
       "<style scoped>\n",
       "    .dataframe tbody tr th:only-of-type {\n",
       "        vertical-align: middle;\n",
       "    }\n",
       "\n",
       "    .dataframe tbody tr th {\n",
       "        vertical-align: top;\n",
       "    }\n",
       "\n",
       "    .dataframe thead th {\n",
       "        text-align: right;\n",
       "    }\n",
       "</style>\n",
       "<table border=\"1\" class=\"dataframe\">\n",
       "  <thead>\n",
       "    <tr style=\"text-align: right;\">\n",
       "      <th></th>\n",
       "      <th>Row ID</th>\n",
       "      <th>Order ID</th>\n",
       "      <th>Order Date</th>\n",
       "      <th>Ship Date</th>\n",
       "      <th>Ship Mode</th>\n",
       "      <th>Customer ID</th>\n",
       "      <th>Customer Name</th>\n",
       "      <th>Segment</th>\n",
       "      <th>Country</th>\n",
       "      <th>City</th>\n",
       "      <th>...</th>\n",
       "      <th>Postal Code</th>\n",
       "      <th>Region</th>\n",
       "      <th>Product ID</th>\n",
       "      <th>Category</th>\n",
       "      <th>Sub-Category</th>\n",
       "      <th>Product Name</th>\n",
       "      <th>Sales</th>\n",
       "      <th>Quantity</th>\n",
       "      <th>Discount</th>\n",
       "      <th>Profit</th>\n",
       "    </tr>\n",
       "  </thead>\n",
       "  <tbody>\n",
       "    <tr>\n",
       "      <th>0</th>\n",
       "      <td>1</td>\n",
       "      <td>CA-2016-152156</td>\n",
       "      <td>2016-11-08</td>\n",
       "      <td>2016-11-11</td>\n",
       "      <td>Second Class</td>\n",
       "      <td>CG-12520</td>\n",
       "      <td>Claire Gute</td>\n",
       "      <td>Consumer</td>\n",
       "      <td>United States</td>\n",
       "      <td>Henderson</td>\n",
       "      <td>...</td>\n",
       "      <td>42420</td>\n",
       "      <td>South</td>\n",
       "      <td>FUR-BO-10001798</td>\n",
       "      <td>Furniture</td>\n",
       "      <td>Bookcases</td>\n",
       "      <td>Bush Somerset Collection Bookcase</td>\n",
       "      <td>261.9600</td>\n",
       "      <td>2</td>\n",
       "      <td>0.00</td>\n",
       "      <td>41.9136</td>\n",
       "    </tr>\n",
       "    <tr>\n",
       "      <th>1</th>\n",
       "      <td>2</td>\n",
       "      <td>CA-2016-152156</td>\n",
       "      <td>2016-11-08</td>\n",
       "      <td>2016-11-11</td>\n",
       "      <td>Second Class</td>\n",
       "      <td>CG-12520</td>\n",
       "      <td>Claire Gute</td>\n",
       "      <td>Consumer</td>\n",
       "      <td>United States</td>\n",
       "      <td>Henderson</td>\n",
       "      <td>...</td>\n",
       "      <td>42420</td>\n",
       "      <td>South</td>\n",
       "      <td>FUR-CH-10000454</td>\n",
       "      <td>Furniture</td>\n",
       "      <td>Chairs</td>\n",
       "      <td>Hon Deluxe Fabric Upholstered Stacking Chairs,...</td>\n",
       "      <td>731.9400</td>\n",
       "      <td>3</td>\n",
       "      <td>0.00</td>\n",
       "      <td>219.5820</td>\n",
       "    </tr>\n",
       "    <tr>\n",
       "      <th>3</th>\n",
       "      <td>4</td>\n",
       "      <td>US-2015-108966</td>\n",
       "      <td>2015-10-11</td>\n",
       "      <td>2015-10-18</td>\n",
       "      <td>Standard Class</td>\n",
       "      <td>SO-20335</td>\n",
       "      <td>Sean O'Donnell</td>\n",
       "      <td>Consumer</td>\n",
       "      <td>United States</td>\n",
       "      <td>Fort Lauderdale</td>\n",
       "      <td>...</td>\n",
       "      <td>33311</td>\n",
       "      <td>South</td>\n",
       "      <td>FUR-TA-10000577</td>\n",
       "      <td>Furniture</td>\n",
       "      <td>Tables</td>\n",
       "      <td>Bretford CR4500 Series Slim Rectangular Table</td>\n",
       "      <td>957.5775</td>\n",
       "      <td>5</td>\n",
       "      <td>0.45</td>\n",
       "      <td>-383.0310</td>\n",
       "    </tr>\n",
       "    <tr>\n",
       "      <th>5</th>\n",
       "      <td>6</td>\n",
       "      <td>CA-2014-115812</td>\n",
       "      <td>2014-06-09</td>\n",
       "      <td>2014-06-14</td>\n",
       "      <td>Standard Class</td>\n",
       "      <td>BH-11710</td>\n",
       "      <td>Brosina Hoffman</td>\n",
       "      <td>Consumer</td>\n",
       "      <td>United States</td>\n",
       "      <td>Los Angeles</td>\n",
       "      <td>...</td>\n",
       "      <td>90032</td>\n",
       "      <td>West</td>\n",
       "      <td>FUR-FU-10001487</td>\n",
       "      <td>Furniture</td>\n",
       "      <td>Furnishings</td>\n",
       "      <td>Eldon Expressions Wood and Plastic Desk Access...</td>\n",
       "      <td>48.8600</td>\n",
       "      <td>7</td>\n",
       "      <td>0.00</td>\n",
       "      <td>14.1694</td>\n",
       "    </tr>\n",
       "    <tr>\n",
       "      <th>10</th>\n",
       "      <td>11</td>\n",
       "      <td>CA-2014-115812</td>\n",
       "      <td>2014-06-09</td>\n",
       "      <td>2014-06-14</td>\n",
       "      <td>Standard Class</td>\n",
       "      <td>BH-11710</td>\n",
       "      <td>Brosina Hoffman</td>\n",
       "      <td>Consumer</td>\n",
       "      <td>United States</td>\n",
       "      <td>Los Angeles</td>\n",
       "      <td>...</td>\n",
       "      <td>90032</td>\n",
       "      <td>West</td>\n",
       "      <td>FUR-TA-10001539</td>\n",
       "      <td>Furniture</td>\n",
       "      <td>Tables</td>\n",
       "      <td>Chromcraft Rectangular Conference Tables</td>\n",
       "      <td>1706.1840</td>\n",
       "      <td>9</td>\n",
       "      <td>0.20</td>\n",
       "      <td>85.3092</td>\n",
       "    </tr>\n",
       "    <tr>\n",
       "      <th>23</th>\n",
       "      <td>24</td>\n",
       "      <td>US-2017-156909</td>\n",
       "      <td>2017-07-16</td>\n",
       "      <td>2017-07-18</td>\n",
       "      <td>Second Class</td>\n",
       "      <td>SF-20065</td>\n",
       "      <td>Sandra Flanagan</td>\n",
       "      <td>Consumer</td>\n",
       "      <td>United States</td>\n",
       "      <td>Philadelphia</td>\n",
       "      <td>...</td>\n",
       "      <td>19140</td>\n",
       "      <td>East</td>\n",
       "      <td>FUR-CH-10002774</td>\n",
       "      <td>Furniture</td>\n",
       "      <td>Chairs</td>\n",
       "      <td>Global Deluxe Stacking Chair, Gray</td>\n",
       "      <td>71.3720</td>\n",
       "      <td>2</td>\n",
       "      <td>0.30</td>\n",
       "      <td>-1.0196</td>\n",
       "    </tr>\n",
       "    <tr>\n",
       "      <th>24</th>\n",
       "      <td>25</td>\n",
       "      <td>CA-2015-106320</td>\n",
       "      <td>2015-09-25</td>\n",
       "      <td>2015-09-30</td>\n",
       "      <td>Standard Class</td>\n",
       "      <td>EB-13870</td>\n",
       "      <td>Emily Burns</td>\n",
       "      <td>Consumer</td>\n",
       "      <td>United States</td>\n",
       "      <td>Orem</td>\n",
       "      <td>...</td>\n",
       "      <td>84057</td>\n",
       "      <td>West</td>\n",
       "      <td>FUR-TA-10000577</td>\n",
       "      <td>Furniture</td>\n",
       "      <td>Tables</td>\n",
       "      <td>Bretford CR4500 Series Slim Rectangular Table</td>\n",
       "      <td>1044.6300</td>\n",
       "      <td>3</td>\n",
       "      <td>0.00</td>\n",
       "      <td>240.2649</td>\n",
       "    </tr>\n",
       "    <tr>\n",
       "      <th>27</th>\n",
       "      <td>28</td>\n",
       "      <td>US-2015-150630</td>\n",
       "      <td>2015-09-17</td>\n",
       "      <td>2015-09-21</td>\n",
       "      <td>Standard Class</td>\n",
       "      <td>TB-21520</td>\n",
       "      <td>Tracy Blumstein</td>\n",
       "      <td>Consumer</td>\n",
       "      <td>United States</td>\n",
       "      <td>Philadelphia</td>\n",
       "      <td>...</td>\n",
       "      <td>19140</td>\n",
       "      <td>East</td>\n",
       "      <td>FUR-BO-10004834</td>\n",
       "      <td>Furniture</td>\n",
       "      <td>Bookcases</td>\n",
       "      <td>Riverside Palais Royal Lawyers Bookcase, Royal...</td>\n",
       "      <td>3083.4300</td>\n",
       "      <td>7</td>\n",
       "      <td>0.50</td>\n",
       "      <td>-1665.0522</td>\n",
       "    </tr>\n",
       "    <tr>\n",
       "      <th>29</th>\n",
       "      <td>30</td>\n",
       "      <td>US-2015-150630</td>\n",
       "      <td>2015-09-17</td>\n",
       "      <td>2015-09-21</td>\n",
       "      <td>Standard Class</td>\n",
       "      <td>TB-21520</td>\n",
       "      <td>Tracy Blumstein</td>\n",
       "      <td>Consumer</td>\n",
       "      <td>United States</td>\n",
       "      <td>Philadelphia</td>\n",
       "      <td>...</td>\n",
       "      <td>19140</td>\n",
       "      <td>East</td>\n",
       "      <td>FUR-FU-10004848</td>\n",
       "      <td>Furniture</td>\n",
       "      <td>Furnishings</td>\n",
       "      <td>Howard Miller 13-3/4\" Diameter Brushed Chrome ...</td>\n",
       "      <td>124.2000</td>\n",
       "      <td>3</td>\n",
       "      <td>0.20</td>\n",
       "      <td>15.5250</td>\n",
       "    </tr>\n",
       "    <tr>\n",
       "      <th>36</th>\n",
       "      <td>37</td>\n",
       "      <td>CA-2016-117590</td>\n",
       "      <td>2016-12-08</td>\n",
       "      <td>2016-12-10</td>\n",
       "      <td>First Class</td>\n",
       "      <td>GH-14485</td>\n",
       "      <td>Gene Hale</td>\n",
       "      <td>Corporate</td>\n",
       "      <td>United States</td>\n",
       "      <td>Richardson</td>\n",
       "      <td>...</td>\n",
       "      <td>75080</td>\n",
       "      <td>Central</td>\n",
       "      <td>FUR-FU-10003664</td>\n",
       "      <td>Furniture</td>\n",
       "      <td>Furnishings</td>\n",
       "      <td>Electrix Architect's Clamp-On Swing Arm Lamp, ...</td>\n",
       "      <td>190.9200</td>\n",
       "      <td>5</td>\n",
       "      <td>0.60</td>\n",
       "      <td>-147.9630</td>\n",
       "    </tr>\n",
       "    <tr>\n",
       "      <th>38</th>\n",
       "      <td>39</td>\n",
       "      <td>CA-2015-117415</td>\n",
       "      <td>2015-12-27</td>\n",
       "      <td>2015-12-31</td>\n",
       "      <td>Standard Class</td>\n",
       "      <td>SN-20710</td>\n",
       "      <td>Steve Nguyen</td>\n",
       "      <td>Home Office</td>\n",
       "      <td>United States</td>\n",
       "      <td>Houston</td>\n",
       "      <td>...</td>\n",
       "      <td>77041</td>\n",
       "      <td>Central</td>\n",
       "      <td>FUR-BO-10002545</td>\n",
       "      <td>Furniture</td>\n",
       "      <td>Bookcases</td>\n",
       "      <td>Atlantic Metals Mobile 3-Shelf Bookcases, Cust...</td>\n",
       "      <td>532.3992</td>\n",
       "      <td>3</td>\n",
       "      <td>0.32</td>\n",
       "      <td>-46.9764</td>\n",
       "    </tr>\n",
       "    <tr>\n",
       "      <th>39</th>\n",
       "      <td>40</td>\n",
       "      <td>CA-2015-117415</td>\n",
       "      <td>2015-12-27</td>\n",
       "      <td>2015-12-31</td>\n",
       "      <td>Standard Class</td>\n",
       "      <td>SN-20710</td>\n",
       "      <td>Steve Nguyen</td>\n",
       "      <td>Home Office</td>\n",
       "      <td>United States</td>\n",
       "      <td>Houston</td>\n",
       "      <td>...</td>\n",
       "      <td>77041</td>\n",
       "      <td>Central</td>\n",
       "      <td>FUR-CH-10004218</td>\n",
       "      <td>Furniture</td>\n",
       "      <td>Chairs</td>\n",
       "      <td>Global Fabric Manager's Chair, Dark Gray</td>\n",
       "      <td>212.0580</td>\n",
       "      <td>3</td>\n",
       "      <td>0.30</td>\n",
       "      <td>-15.1470</td>\n",
       "    </tr>\n",
       "    <tr>\n",
       "      <th>51</th>\n",
       "      <td>52</td>\n",
       "      <td>CA-2015-115742</td>\n",
       "      <td>2015-04-18</td>\n",
       "      <td>2015-04-22</td>\n",
       "      <td>Standard Class</td>\n",
       "      <td>DP-13000</td>\n",
       "      <td>Darren Powers</td>\n",
       "      <td>Consumer</td>\n",
       "      <td>United States</td>\n",
       "      <td>New Albany</td>\n",
       "      <td>...</td>\n",
       "      <td>47150</td>\n",
       "      <td>Central</td>\n",
       "      <td>FUR-FU-10001706</td>\n",
       "      <td>Furniture</td>\n",
       "      <td>Furnishings</td>\n",
       "      <td>Longer-Life Soft White Bulbs</td>\n",
       "      <td>6.1600</td>\n",
       "      <td>2</td>\n",
       "      <td>0.00</td>\n",
       "      <td>2.9568</td>\n",
       "    </tr>\n",
       "    <tr>\n",
       "      <th>52</th>\n",
       "      <td>53</td>\n",
       "      <td>CA-2015-115742</td>\n",
       "      <td>2015-04-18</td>\n",
       "      <td>2015-04-22</td>\n",
       "      <td>Standard Class</td>\n",
       "      <td>DP-13000</td>\n",
       "      <td>Darren Powers</td>\n",
       "      <td>Consumer</td>\n",
       "      <td>United States</td>\n",
       "      <td>New Albany</td>\n",
       "      <td>...</td>\n",
       "      <td>47150</td>\n",
       "      <td>Central</td>\n",
       "      <td>FUR-CH-10003061</td>\n",
       "      <td>Furniture</td>\n",
       "      <td>Chairs</td>\n",
       "      <td>Global Leather Task Chair, Black</td>\n",
       "      <td>89.9900</td>\n",
       "      <td>1</td>\n",
       "      <td>0.00</td>\n",
       "      <td>17.0981</td>\n",
       "    </tr>\n",
       "    <tr>\n",
       "      <th>57</th>\n",
       "      <td>58</td>\n",
       "      <td>CA-2016-111682</td>\n",
       "      <td>2016-06-17</td>\n",
       "      <td>2016-06-18</td>\n",
       "      <td>First Class</td>\n",
       "      <td>TB-21055</td>\n",
       "      <td>Ted Butterfield</td>\n",
       "      <td>Consumer</td>\n",
       "      <td>United States</td>\n",
       "      <td>Troy</td>\n",
       "      <td>...</td>\n",
       "      <td>12180</td>\n",
       "      <td>East</td>\n",
       "      <td>FUR-CH-10003968</td>\n",
       "      <td>Furniture</td>\n",
       "      <td>Chairs</td>\n",
       "      <td>Novimex Turbo Task Chair</td>\n",
       "      <td>319.4100</td>\n",
       "      <td>5</td>\n",
       "      <td>0.10</td>\n",
       "      <td>7.0980</td>\n",
       "    </tr>\n",
       "    <tr>\n",
       "      <th>65</th>\n",
       "      <td>66</td>\n",
       "      <td>CA-2015-135545</td>\n",
       "      <td>2015-11-24</td>\n",
       "      <td>2015-11-30</td>\n",
       "      <td>Standard Class</td>\n",
       "      <td>KM-16720</td>\n",
       "      <td>Kunst Miller</td>\n",
       "      <td>Consumer</td>\n",
       "      <td>United States</td>\n",
       "      <td>Los Angeles</td>\n",
       "      <td>...</td>\n",
       "      <td>90004</td>\n",
       "      <td>West</td>\n",
       "      <td>FUR-FU-10000397</td>\n",
       "      <td>Furniture</td>\n",
       "      <td>Furnishings</td>\n",
       "      <td>Luxo Economy Swing Arm Lamp</td>\n",
       "      <td>79.7600</td>\n",
       "      <td>4</td>\n",
       "      <td>0.00</td>\n",
       "      <td>22.3328</td>\n",
       "    </tr>\n",
       "    <tr>\n",
       "      <th>66</th>\n",
       "      <td>67</td>\n",
       "      <td>US-2015-164175</td>\n",
       "      <td>2015-04-30</td>\n",
       "      <td>2015-05-05</td>\n",
       "      <td>Standard Class</td>\n",
       "      <td>PS-18970</td>\n",
       "      <td>Paul Stevenson</td>\n",
       "      <td>Home Office</td>\n",
       "      <td>United States</td>\n",
       "      <td>Chicago</td>\n",
       "      <td>...</td>\n",
       "      <td>60610</td>\n",
       "      <td>Central</td>\n",
       "      <td>FUR-CH-10001146</td>\n",
       "      <td>Furniture</td>\n",
       "      <td>Chairs</td>\n",
       "      <td>Global Value Mid-Back Manager's Chair, Gray</td>\n",
       "      <td>213.1150</td>\n",
       "      <td>5</td>\n",
       "      <td>0.30</td>\n",
       "      <td>-15.2225</td>\n",
       "    </tr>\n",
       "    <tr>\n",
       "      <th>72</th>\n",
       "      <td>73</td>\n",
       "      <td>US-2015-134026</td>\n",
       "      <td>2015-04-26</td>\n",
       "      <td>2015-05-02</td>\n",
       "      <td>Standard Class</td>\n",
       "      <td>JE-15745</td>\n",
       "      <td>Joel Eaton</td>\n",
       "      <td>Consumer</td>\n",
       "      <td>United States</td>\n",
       "      <td>Memphis</td>\n",
       "      <td>...</td>\n",
       "      <td>38109</td>\n",
       "      <td>South</td>\n",
       "      <td>FUR-CH-10000513</td>\n",
       "      <td>Furniture</td>\n",
       "      <td>Chairs</td>\n",
       "      <td>High-Back Leather Manager's Chair</td>\n",
       "      <td>831.9360</td>\n",
       "      <td>8</td>\n",
       "      <td>0.20</td>\n",
       "      <td>-114.3912</td>\n",
       "    </tr>\n",
       "    <tr>\n",
       "      <th>73</th>\n",
       "      <td>74</td>\n",
       "      <td>US-2015-134026</td>\n",
       "      <td>2015-04-26</td>\n",
       "      <td>2015-05-02</td>\n",
       "      <td>Standard Class</td>\n",
       "      <td>JE-15745</td>\n",
       "      <td>Joel Eaton</td>\n",
       "      <td>Consumer</td>\n",
       "      <td>United States</td>\n",
       "      <td>Memphis</td>\n",
       "      <td>...</td>\n",
       "      <td>38109</td>\n",
       "      <td>South</td>\n",
       "      <td>FUR-FU-10003708</td>\n",
       "      <td>Furniture</td>\n",
       "      <td>Furnishings</td>\n",
       "      <td>Tenex Traditional Chairmats for Medium Pile Ca...</td>\n",
       "      <td>97.0400</td>\n",
       "      <td>2</td>\n",
       "      <td>0.20</td>\n",
       "      <td>1.2130</td>\n",
       "    </tr>\n",
       "    <tr>\n",
       "      <th>76</th>\n",
       "      <td>77</td>\n",
       "      <td>US-2017-118038</td>\n",
       "      <td>2017-12-09</td>\n",
       "      <td>2017-12-11</td>\n",
       "      <td>First Class</td>\n",
       "      <td>KB-16600</td>\n",
       "      <td>Ken Brennan</td>\n",
       "      <td>Corporate</td>\n",
       "      <td>United States</td>\n",
       "      <td>Houston</td>\n",
       "      <td>...</td>\n",
       "      <td>77041</td>\n",
       "      <td>Central</td>\n",
       "      <td>FUR-FU-10000260</td>\n",
       "      <td>Furniture</td>\n",
       "      <td>Furnishings</td>\n",
       "      <td>6\" Cubicle Wall Clock, Black</td>\n",
       "      <td>9.7080</td>\n",
       "      <td>3</td>\n",
       "      <td>0.60</td>\n",
       "      <td>-5.8248</td>\n",
       "    </tr>\n",
       "  </tbody>\n",
       "</table>\n",
       "<p>20 rows × 21 columns</p>\n",
       "</div>"
      ],
      "text/plain": [
       "    Row ID        Order ID Order Date  Ship Date       Ship Mode Customer ID  \\\n",
       "0        1  CA-2016-152156 2016-11-08 2016-11-11    Second Class    CG-12520   \n",
       "1        2  CA-2016-152156 2016-11-08 2016-11-11    Second Class    CG-12520   \n",
       "3        4  US-2015-108966 2015-10-11 2015-10-18  Standard Class    SO-20335   \n",
       "5        6  CA-2014-115812 2014-06-09 2014-06-14  Standard Class    BH-11710   \n",
       "10      11  CA-2014-115812 2014-06-09 2014-06-14  Standard Class    BH-11710   \n",
       "23      24  US-2017-156909 2017-07-16 2017-07-18    Second Class    SF-20065   \n",
       "24      25  CA-2015-106320 2015-09-25 2015-09-30  Standard Class    EB-13870   \n",
       "27      28  US-2015-150630 2015-09-17 2015-09-21  Standard Class    TB-21520   \n",
       "29      30  US-2015-150630 2015-09-17 2015-09-21  Standard Class    TB-21520   \n",
       "36      37  CA-2016-117590 2016-12-08 2016-12-10     First Class    GH-14485   \n",
       "38      39  CA-2015-117415 2015-12-27 2015-12-31  Standard Class    SN-20710   \n",
       "39      40  CA-2015-117415 2015-12-27 2015-12-31  Standard Class    SN-20710   \n",
       "51      52  CA-2015-115742 2015-04-18 2015-04-22  Standard Class    DP-13000   \n",
       "52      53  CA-2015-115742 2015-04-18 2015-04-22  Standard Class    DP-13000   \n",
       "57      58  CA-2016-111682 2016-06-17 2016-06-18     First Class    TB-21055   \n",
       "65      66  CA-2015-135545 2015-11-24 2015-11-30  Standard Class    KM-16720   \n",
       "66      67  US-2015-164175 2015-04-30 2015-05-05  Standard Class    PS-18970   \n",
       "72      73  US-2015-134026 2015-04-26 2015-05-02  Standard Class    JE-15745   \n",
       "73      74  US-2015-134026 2015-04-26 2015-05-02  Standard Class    JE-15745   \n",
       "76      77  US-2017-118038 2017-12-09 2017-12-11     First Class    KB-16600   \n",
       "\n",
       "      Customer Name      Segment        Country             City  ...  \\\n",
       "0       Claire Gute     Consumer  United States        Henderson  ...   \n",
       "1       Claire Gute     Consumer  United States        Henderson  ...   \n",
       "3    Sean O'Donnell     Consumer  United States  Fort Lauderdale  ...   \n",
       "5   Brosina Hoffman     Consumer  United States      Los Angeles  ...   \n",
       "10  Brosina Hoffman     Consumer  United States      Los Angeles  ...   \n",
       "23  Sandra Flanagan     Consumer  United States     Philadelphia  ...   \n",
       "24      Emily Burns     Consumer  United States             Orem  ...   \n",
       "27  Tracy Blumstein     Consumer  United States     Philadelphia  ...   \n",
       "29  Tracy Blumstein     Consumer  United States     Philadelphia  ...   \n",
       "36        Gene Hale    Corporate  United States       Richardson  ...   \n",
       "38     Steve Nguyen  Home Office  United States          Houston  ...   \n",
       "39     Steve Nguyen  Home Office  United States          Houston  ...   \n",
       "51    Darren Powers     Consumer  United States       New Albany  ...   \n",
       "52    Darren Powers     Consumer  United States       New Albany  ...   \n",
       "57  Ted Butterfield     Consumer  United States             Troy  ...   \n",
       "65     Kunst Miller     Consumer  United States      Los Angeles  ...   \n",
       "66   Paul Stevenson  Home Office  United States          Chicago  ...   \n",
       "72       Joel Eaton     Consumer  United States          Memphis  ...   \n",
       "73       Joel Eaton     Consumer  United States          Memphis  ...   \n",
       "76      Ken Brennan    Corporate  United States          Houston  ...   \n",
       "\n",
       "   Postal Code   Region       Product ID   Category Sub-Category  \\\n",
       "0        42420    South  FUR-BO-10001798  Furniture    Bookcases   \n",
       "1        42420    South  FUR-CH-10000454  Furniture       Chairs   \n",
       "3        33311    South  FUR-TA-10000577  Furniture       Tables   \n",
       "5        90032     West  FUR-FU-10001487  Furniture  Furnishings   \n",
       "10       90032     West  FUR-TA-10001539  Furniture       Tables   \n",
       "23       19140     East  FUR-CH-10002774  Furniture       Chairs   \n",
       "24       84057     West  FUR-TA-10000577  Furniture       Tables   \n",
       "27       19140     East  FUR-BO-10004834  Furniture    Bookcases   \n",
       "29       19140     East  FUR-FU-10004848  Furniture  Furnishings   \n",
       "36       75080  Central  FUR-FU-10003664  Furniture  Furnishings   \n",
       "38       77041  Central  FUR-BO-10002545  Furniture    Bookcases   \n",
       "39       77041  Central  FUR-CH-10004218  Furniture       Chairs   \n",
       "51       47150  Central  FUR-FU-10001706  Furniture  Furnishings   \n",
       "52       47150  Central  FUR-CH-10003061  Furniture       Chairs   \n",
       "57       12180     East  FUR-CH-10003968  Furniture       Chairs   \n",
       "65       90004     West  FUR-FU-10000397  Furniture  Furnishings   \n",
       "66       60610  Central  FUR-CH-10001146  Furniture       Chairs   \n",
       "72       38109    South  FUR-CH-10000513  Furniture       Chairs   \n",
       "73       38109    South  FUR-FU-10003708  Furniture  Furnishings   \n",
       "76       77041  Central  FUR-FU-10000260  Furniture  Furnishings   \n",
       "\n",
       "                                         Product Name      Sales  Quantity  \\\n",
       "0                   Bush Somerset Collection Bookcase   261.9600         2   \n",
       "1   Hon Deluxe Fabric Upholstered Stacking Chairs,...   731.9400         3   \n",
       "3       Bretford CR4500 Series Slim Rectangular Table   957.5775         5   \n",
       "5   Eldon Expressions Wood and Plastic Desk Access...    48.8600         7   \n",
       "10           Chromcraft Rectangular Conference Tables  1706.1840         9   \n",
       "23                 Global Deluxe Stacking Chair, Gray    71.3720         2   \n",
       "24      Bretford CR4500 Series Slim Rectangular Table  1044.6300         3   \n",
       "27  Riverside Palais Royal Lawyers Bookcase, Royal...  3083.4300         7   \n",
       "29  Howard Miller 13-3/4\" Diameter Brushed Chrome ...   124.2000         3   \n",
       "36  Electrix Architect's Clamp-On Swing Arm Lamp, ...   190.9200         5   \n",
       "38  Atlantic Metals Mobile 3-Shelf Bookcases, Cust...   532.3992         3   \n",
       "39           Global Fabric Manager's Chair, Dark Gray   212.0580         3   \n",
       "51                       Longer-Life Soft White Bulbs     6.1600         2   \n",
       "52                   Global Leather Task Chair, Black    89.9900         1   \n",
       "57                           Novimex Turbo Task Chair   319.4100         5   \n",
       "65                        Luxo Economy Swing Arm Lamp    79.7600         4   \n",
       "66        Global Value Mid-Back Manager's Chair, Gray   213.1150         5   \n",
       "72                  High-Back Leather Manager's Chair   831.9360         8   \n",
       "73  Tenex Traditional Chairmats for Medium Pile Ca...    97.0400         2   \n",
       "76                       6\" Cubicle Wall Clock, Black     9.7080         3   \n",
       "\n",
       "    Discount     Profit  \n",
       "0       0.00    41.9136  \n",
       "1       0.00   219.5820  \n",
       "3       0.45  -383.0310  \n",
       "5       0.00    14.1694  \n",
       "10      0.20    85.3092  \n",
       "23      0.30    -1.0196  \n",
       "24      0.00   240.2649  \n",
       "27      0.50 -1665.0522  \n",
       "29      0.20    15.5250  \n",
       "36      0.60  -147.9630  \n",
       "38      0.32   -46.9764  \n",
       "39      0.30   -15.1470  \n",
       "51      0.00     2.9568  \n",
       "52      0.00    17.0981  \n",
       "57      0.10     7.0980  \n",
       "65      0.00    22.3328  \n",
       "66      0.30   -15.2225  \n",
       "72      0.20  -114.3912  \n",
       "73      0.20     1.2130  \n",
       "76      0.60    -5.8248  \n",
       "\n",
       "[20 rows x 21 columns]"
      ]
     },
     "execution_count": 8,
     "metadata": {},
     "output_type": "execute_result"
    }
   ],
   "source": [
    "Furniture.head(20)"
   ]
  },
  {
   "cell_type": "code",
   "execution_count": 9,
   "id": "a9b409fb",
   "metadata": {},
   "outputs": [
    {
     "name": "stdout",
     "output_type": "stream",
     "text": [
      "2121\n",
      "9994\n"
     ]
    }
   ],
   "source": [
    "print(len(Furniture))\n",
    "print(len(dataset))"
   ]
  },
  {
   "cell_type": "code",
   "execution_count": 10,
   "id": "3870c8f4",
   "metadata": {},
   "outputs": [
    {
     "name": "stdout",
     "output_type": "stream",
     "text": [
      "2014-01-06 00:00:00\n",
      "2017-12-30 00:00:00\n"
     ]
    }
   ],
   "source": [
    "print(Furniture['Order Date'].min())\n",
    "print(Furniture['Order Date'].max())"
   ]
  },
  {
   "cell_type": "code",
   "execution_count": 11,
   "id": "5409ebf7",
   "metadata": {},
   "outputs": [
    {
     "name": "stdout",
     "output_type": "stream",
     "text": [
      "<class 'pandas.core.frame.DataFrame'>\n",
      "Int64Index: 2121 entries, 0 to 9990\n",
      "Data columns (total 21 columns):\n",
      " #   Column         Non-Null Count  Dtype         \n",
      "---  ------         --------------  -----         \n",
      " 0   Row ID         2121 non-null   int64         \n",
      " 1   Order ID       2121 non-null   object        \n",
      " 2   Order Date     2121 non-null   datetime64[ns]\n",
      " 3   Ship Date      2121 non-null   datetime64[ns]\n",
      " 4   Ship Mode      2121 non-null   object        \n",
      " 5   Customer ID    2121 non-null   object        \n",
      " 6   Customer Name  2121 non-null   object        \n",
      " 7   Segment        2121 non-null   object        \n",
      " 8   Country        2121 non-null   object        \n",
      " 9   City           2121 non-null   object        \n",
      " 10  State          2121 non-null   object        \n",
      " 11  Postal Code    2121 non-null   int64         \n",
      " 12  Region         2121 non-null   object        \n",
      " 13  Product ID     2121 non-null   object        \n",
      " 14  Category       2121 non-null   object        \n",
      " 15  Sub-Category   2121 non-null   object        \n",
      " 16  Product Name   2121 non-null   object        \n",
      " 17  Sales          2121 non-null   float64       \n",
      " 18  Quantity       2121 non-null   int64         \n",
      " 19  Discount       2121 non-null   float64       \n",
      " 20  Profit         2121 non-null   float64       \n",
      "dtypes: datetime64[ns](2), float64(3), int64(3), object(13)\n",
      "memory usage: 364.5+ KB\n"
     ]
    },
    {
     "name": "stderr",
     "output_type": "stream",
     "text": [
      "<ipython-input-11-e37b2e6a4a2d>:1: SettingWithCopyWarning: \n",
      "A value is trying to be set on a copy of a slice from a DataFrame.\n",
      "Try using .loc[row_indexer,col_indexer] = value instead\n",
      "\n",
      "See the caveats in the documentation: https://pandas.pydata.org/pandas-docs/stable/user_guide/indexing.html#returning-a-view-versus-a-copy\n",
      "  Furniture['Order Date'] = pd.to_datetime(Furniture['Order Date'], format='%d/%m/%Y') #converting the data type of 'Order Date' column to date time format\n",
      "<ipython-input-11-e37b2e6a4a2d>:2: SettingWithCopyWarning: \n",
      "A value is trying to be set on a copy of a slice from a DataFrame.\n",
      "Try using .loc[row_indexer,col_indexer] = value instead\n",
      "\n",
      "See the caveats in the documentation: https://pandas.pydata.org/pandas-docs/stable/user_guide/indexing.html#returning-a-view-versus-a-copy\n",
      "  Furniture['Ship Date'] = pd.to_datetime(Furniture['Ship Date'], format='%d/%m/%Y') #converting the data type of 'Ship Date' column to date time format\n"
     ]
    }
   ],
   "source": [
    "Furniture['Order Date'] = pd.to_datetime(Furniture['Order Date'], format='%d/%m/%Y') #converting the data type of 'Order Date' column to date time format\n",
    "Furniture['Ship Date'] = pd.to_datetime(Furniture['Ship Date'], format='%d/%m/%Y') #converting the data type of 'Ship Date' column to date time format\n",
    "Furniture.info() "
   ]
  },
  {
   "cell_type": "code",
   "execution_count": 11,
   "id": "4791c95b",
   "metadata": {},
   "outputs": [
    {
     "data": {
      "text/plain": [
       "Index(['Row ID', 'Order ID', 'Order Date', 'Ship Date', 'Ship Mode',\n",
       "       'Customer ID', 'Customer Name', 'Segment', 'Country', 'City', 'State',\n",
       "       'Postal Code', 'Region', 'Product ID', 'Category', 'Sub-Category',\n",
       "       'Product Name', 'Sales', 'Quantity', 'Discount', 'Profit'],\n",
       "      dtype='object')"
      ]
     },
     "execution_count": 11,
     "metadata": {},
     "output_type": "execute_result"
    }
   ],
   "source": [
    "Furniture.columns"
   ]
  },
  {
   "cell_type": "code",
   "execution_count": 12,
   "id": "e1e27962",
   "metadata": {},
   "outputs": [],
   "source": [
    "# Order Date and Sales\n",
    "column = ['Row ID', 'Order ID', 'Ship Date', 'Ship Mode',\n",
    "       'Customer ID', 'Customer Name', 'Segment', 'Country', 'City', 'State',\n",
    "       'Postal Code', 'Region', 'Product ID', 'Category', 'Sub-Category',\n",
    "       'Product Name', 'Quantity', 'Discount', 'Profit']"
   ]
  },
  {
   "cell_type": "code",
   "execution_count": 13,
   "id": "ce82e964",
   "metadata": {},
   "outputs": [
    {
     "name": "stderr",
     "output_type": "stream",
     "text": [
      "C:\\Users\\Lenovo\\anaconda3\\lib\\site-packages\\pandas\\core\\frame.py:4308: SettingWithCopyWarning: \n",
      "A value is trying to be set on a copy of a slice from a DataFrame\n",
      "\n",
      "See the caveats in the documentation: https://pandas.pydata.org/pandas-docs/stable/user_guide/indexing.html#returning-a-view-versus-a-copy\n",
      "  return super().drop(\n"
     ]
    }
   ],
   "source": [
    "Furniture.drop(column, axis=1, inplace=True)"
   ]
  },
  {
   "cell_type": "code",
   "execution_count": 14,
   "id": "67250ff3",
   "metadata": {},
   "outputs": [
    {
     "data": {
      "text/html": [
       "<div>\n",
       "<style scoped>\n",
       "    .dataframe tbody tr th:only-of-type {\n",
       "        vertical-align: middle;\n",
       "    }\n",
       "\n",
       "    .dataframe tbody tr th {\n",
       "        vertical-align: top;\n",
       "    }\n",
       "\n",
       "    .dataframe thead th {\n",
       "        text-align: right;\n",
       "    }\n",
       "</style>\n",
       "<table border=\"1\" class=\"dataframe\">\n",
       "  <thead>\n",
       "    <tr style=\"text-align: right;\">\n",
       "      <th></th>\n",
       "      <th>Order Date</th>\n",
       "      <th>Sales</th>\n",
       "    </tr>\n",
       "  </thead>\n",
       "  <tbody>\n",
       "    <tr>\n",
       "      <th>0</th>\n",
       "      <td>2016-11-08</td>\n",
       "      <td>261.9600</td>\n",
       "    </tr>\n",
       "    <tr>\n",
       "      <th>1</th>\n",
       "      <td>2016-11-08</td>\n",
       "      <td>731.9400</td>\n",
       "    </tr>\n",
       "    <tr>\n",
       "      <th>3</th>\n",
       "      <td>2015-10-11</td>\n",
       "      <td>957.5775</td>\n",
       "    </tr>\n",
       "    <tr>\n",
       "      <th>5</th>\n",
       "      <td>2014-06-09</td>\n",
       "      <td>48.8600</td>\n",
       "    </tr>\n",
       "    <tr>\n",
       "      <th>10</th>\n",
       "      <td>2014-06-09</td>\n",
       "      <td>1706.1840</td>\n",
       "    </tr>\n",
       "    <tr>\n",
       "      <th>23</th>\n",
       "      <td>2017-07-16</td>\n",
       "      <td>71.3720</td>\n",
       "    </tr>\n",
       "    <tr>\n",
       "      <th>24</th>\n",
       "      <td>2015-09-25</td>\n",
       "      <td>1044.6300</td>\n",
       "    </tr>\n",
       "    <tr>\n",
       "      <th>27</th>\n",
       "      <td>2015-09-17</td>\n",
       "      <td>3083.4300</td>\n",
       "    </tr>\n",
       "    <tr>\n",
       "      <th>29</th>\n",
       "      <td>2015-09-17</td>\n",
       "      <td>124.2000</td>\n",
       "    </tr>\n",
       "    <tr>\n",
       "      <th>36</th>\n",
       "      <td>2016-12-08</td>\n",
       "      <td>190.9200</td>\n",
       "    </tr>\n",
       "  </tbody>\n",
       "</table>\n",
       "</div>"
      ],
      "text/plain": [
       "   Order Date      Sales\n",
       "0  2016-11-08   261.9600\n",
       "1  2016-11-08   731.9400\n",
       "3  2015-10-11   957.5775\n",
       "5  2014-06-09    48.8600\n",
       "10 2014-06-09  1706.1840\n",
       "23 2017-07-16    71.3720\n",
       "24 2015-09-25  1044.6300\n",
       "27 2015-09-17  3083.4300\n",
       "29 2015-09-17   124.2000\n",
       "36 2016-12-08   190.9200"
      ]
     },
     "execution_count": 14,
     "metadata": {},
     "output_type": "execute_result"
    }
   ],
   "source": [
    "Furniture.head(10)"
   ]
  },
  {
   "cell_type": "code",
   "execution_count": 15,
   "id": "8d45f1c9",
   "metadata": {},
   "outputs": [
    {
     "data": {
      "text/html": [
       "<div>\n",
       "<style scoped>\n",
       "    .dataframe tbody tr th:only-of-type {\n",
       "        vertical-align: middle;\n",
       "    }\n",
       "\n",
       "    .dataframe tbody tr th {\n",
       "        vertical-align: top;\n",
       "    }\n",
       "\n",
       "    .dataframe thead th {\n",
       "        text-align: right;\n",
       "    }\n",
       "</style>\n",
       "<table border=\"1\" class=\"dataframe\">\n",
       "  <thead>\n",
       "    <tr style=\"text-align: right;\">\n",
       "      <th></th>\n",
       "      <th>Order Date</th>\n",
       "      <th>Sales</th>\n",
       "    </tr>\n",
       "  </thead>\n",
       "  <tbody>\n",
       "    <tr>\n",
       "      <th>7474</th>\n",
       "      <td>2014-01-06</td>\n",
       "      <td>2573.820</td>\n",
       "    </tr>\n",
       "    <tr>\n",
       "      <th>7660</th>\n",
       "      <td>2014-01-07</td>\n",
       "      <td>76.728</td>\n",
       "    </tr>\n",
       "    <tr>\n",
       "      <th>866</th>\n",
       "      <td>2014-01-10</td>\n",
       "      <td>51.940</td>\n",
       "    </tr>\n",
       "    <tr>\n",
       "      <th>716</th>\n",
       "      <td>2014-01-11</td>\n",
       "      <td>9.940</td>\n",
       "    </tr>\n",
       "    <tr>\n",
       "      <th>2978</th>\n",
       "      <td>2014-01-13</td>\n",
       "      <td>545.940</td>\n",
       "    </tr>\n",
       "    <tr>\n",
       "      <th>...</th>\n",
       "      <td>...</td>\n",
       "      <td>...</td>\n",
       "    </tr>\n",
       "    <tr>\n",
       "      <th>7636</th>\n",
       "      <td>2017-12-29</td>\n",
       "      <td>258.750</td>\n",
       "    </tr>\n",
       "    <tr>\n",
       "      <th>7632</th>\n",
       "      <td>2017-12-29</td>\n",
       "      <td>1207.840</td>\n",
       "    </tr>\n",
       "    <tr>\n",
       "      <th>5131</th>\n",
       "      <td>2017-12-29</td>\n",
       "      <td>101.120</td>\n",
       "    </tr>\n",
       "    <tr>\n",
       "      <th>7635</th>\n",
       "      <td>2017-12-29</td>\n",
       "      <td>300.980</td>\n",
       "    </tr>\n",
       "    <tr>\n",
       "      <th>906</th>\n",
       "      <td>2017-12-30</td>\n",
       "      <td>323.136</td>\n",
       "    </tr>\n",
       "  </tbody>\n",
       "</table>\n",
       "<p>2121 rows × 2 columns</p>\n",
       "</div>"
      ],
      "text/plain": [
       "     Order Date     Sales\n",
       "7474 2014-01-06  2573.820\n",
       "7660 2014-01-07    76.728\n",
       "866  2014-01-10    51.940\n",
       "716  2014-01-11     9.940\n",
       "2978 2014-01-13   545.940\n",
       "...         ...       ...\n",
       "7636 2017-12-29   258.750\n",
       "7632 2017-12-29  1207.840\n",
       "5131 2017-12-29   101.120\n",
       "7635 2017-12-29   300.980\n",
       "906  2017-12-30   323.136\n",
       "\n",
       "[2121 rows x 2 columns]"
      ]
     },
     "execution_count": 15,
     "metadata": {},
     "output_type": "execute_result"
    }
   ],
   "source": [
    "# sorting the order date\n",
    "\n",
    "Furniture.sort_values('Order Date')"
   ]
  },
  {
   "cell_type": "code",
   "execution_count": 16,
   "id": "79d4889b",
   "metadata": {},
   "outputs": [],
   "source": [
    "Furniture = Furniture.groupby('Order Date')['Sales'].sum().reset_index()"
   ]
  },
  {
   "cell_type": "code",
   "execution_count": 17,
   "id": "0f873972",
   "metadata": {},
   "outputs": [
    {
     "data": {
      "text/html": [
       "<div>\n",
       "<style scoped>\n",
       "    .dataframe tbody tr th:only-of-type {\n",
       "        vertical-align: middle;\n",
       "    }\n",
       "\n",
       "    .dataframe tbody tr th {\n",
       "        vertical-align: top;\n",
       "    }\n",
       "\n",
       "    .dataframe thead th {\n",
       "        text-align: right;\n",
       "    }\n",
       "</style>\n",
       "<table border=\"1\" class=\"dataframe\">\n",
       "  <thead>\n",
       "    <tr style=\"text-align: right;\">\n",
       "      <th></th>\n",
       "      <th>Order Date</th>\n",
       "      <th>Sales</th>\n",
       "    </tr>\n",
       "  </thead>\n",
       "  <tbody>\n",
       "    <tr>\n",
       "      <th>0</th>\n",
       "      <td>2014-01-06</td>\n",
       "      <td>2573.820</td>\n",
       "    </tr>\n",
       "    <tr>\n",
       "      <th>1</th>\n",
       "      <td>2014-01-07</td>\n",
       "      <td>76.728</td>\n",
       "    </tr>\n",
       "    <tr>\n",
       "      <th>2</th>\n",
       "      <td>2014-01-10</td>\n",
       "      <td>51.940</td>\n",
       "    </tr>\n",
       "    <tr>\n",
       "      <th>3</th>\n",
       "      <td>2014-01-11</td>\n",
       "      <td>9.940</td>\n",
       "    </tr>\n",
       "    <tr>\n",
       "      <th>4</th>\n",
       "      <td>2014-01-13</td>\n",
       "      <td>879.939</td>\n",
       "    </tr>\n",
       "    <tr>\n",
       "      <th>5</th>\n",
       "      <td>2014-01-14</td>\n",
       "      <td>61.960</td>\n",
       "    </tr>\n",
       "    <tr>\n",
       "      <th>6</th>\n",
       "      <td>2014-01-16</td>\n",
       "      <td>127.104</td>\n",
       "    </tr>\n",
       "    <tr>\n",
       "      <th>7</th>\n",
       "      <td>2014-01-19</td>\n",
       "      <td>181.470</td>\n",
       "    </tr>\n",
       "    <tr>\n",
       "      <th>8</th>\n",
       "      <td>2014-01-20</td>\n",
       "      <td>1413.510</td>\n",
       "    </tr>\n",
       "    <tr>\n",
       "      <th>9</th>\n",
       "      <td>2014-01-21</td>\n",
       "      <td>25.248</td>\n",
       "    </tr>\n",
       "    <tr>\n",
       "      <th>10</th>\n",
       "      <td>2014-01-26</td>\n",
       "      <td>217.200</td>\n",
       "    </tr>\n",
       "    <tr>\n",
       "      <th>11</th>\n",
       "      <td>2014-01-27</td>\n",
       "      <td>333.000</td>\n",
       "    </tr>\n",
       "    <tr>\n",
       "      <th>12</th>\n",
       "      <td>2014-01-31</td>\n",
       "      <td>290.666</td>\n",
       "    </tr>\n",
       "    <tr>\n",
       "      <th>13</th>\n",
       "      <td>2014-02-08</td>\n",
       "      <td>14.560</td>\n",
       "    </tr>\n",
       "    <tr>\n",
       "      <th>14</th>\n",
       "      <td>2014-02-11</td>\n",
       "      <td>1650.050</td>\n",
       "    </tr>\n",
       "    <tr>\n",
       "      <th>15</th>\n",
       "      <td>2014-02-12</td>\n",
       "      <td>129.568</td>\n",
       "    </tr>\n",
       "    <tr>\n",
       "      <th>16</th>\n",
       "      <td>2014-02-18</td>\n",
       "      <td>25.160</td>\n",
       "    </tr>\n",
       "    <tr>\n",
       "      <th>17</th>\n",
       "      <td>2014-02-20</td>\n",
       "      <td>20.320</td>\n",
       "    </tr>\n",
       "    <tr>\n",
       "      <th>18</th>\n",
       "      <td>2014-03-01</td>\n",
       "      <td>1893.995</td>\n",
       "    </tr>\n",
       "    <tr>\n",
       "      <th>19</th>\n",
       "      <td>2014-03-03</td>\n",
       "      <td>928.802</td>\n",
       "    </tr>\n",
       "  </tbody>\n",
       "</table>\n",
       "</div>"
      ],
      "text/plain": [
       "   Order Date     Sales\n",
       "0  2014-01-06  2573.820\n",
       "1  2014-01-07    76.728\n",
       "2  2014-01-10    51.940\n",
       "3  2014-01-11     9.940\n",
       "4  2014-01-13   879.939\n",
       "5  2014-01-14    61.960\n",
       "6  2014-01-16   127.104\n",
       "7  2014-01-19   181.470\n",
       "8  2014-01-20  1413.510\n",
       "9  2014-01-21    25.248\n",
       "10 2014-01-26   217.200\n",
       "11 2014-01-27   333.000\n",
       "12 2014-01-31   290.666\n",
       "13 2014-02-08    14.560\n",
       "14 2014-02-11  1650.050\n",
       "15 2014-02-12   129.568\n",
       "16 2014-02-18    25.160\n",
       "17 2014-02-20    20.320\n",
       "18 2014-03-01  1893.995\n",
       "19 2014-03-03   928.802"
      ]
     },
     "execution_count": 17,
     "metadata": {},
     "output_type": "execute_result"
    }
   ],
   "source": [
    "Furniture.head(20)"
   ]
  },
  {
   "cell_type": "code",
   "execution_count": 18,
   "id": "571dae72",
   "metadata": {},
   "outputs": [],
   "source": [
    "Furniture = Furniture.set_index('Order Date')"
   ]
  },
  {
   "cell_type": "code",
   "execution_count": 19,
   "id": "c4141acb",
   "metadata": {},
   "outputs": [
    {
     "data": {
      "text/html": [
       "<div>\n",
       "<style scoped>\n",
       "    .dataframe tbody tr th:only-of-type {\n",
       "        vertical-align: middle;\n",
       "    }\n",
       "\n",
       "    .dataframe tbody tr th {\n",
       "        vertical-align: top;\n",
       "    }\n",
       "\n",
       "    .dataframe thead th {\n",
       "        text-align: right;\n",
       "    }\n",
       "</style>\n",
       "<table border=\"1\" class=\"dataframe\">\n",
       "  <thead>\n",
       "    <tr style=\"text-align: right;\">\n",
       "      <th></th>\n",
       "      <th>Sales</th>\n",
       "    </tr>\n",
       "    <tr>\n",
       "      <th>Order Date</th>\n",
       "      <th></th>\n",
       "    </tr>\n",
       "  </thead>\n",
       "  <tbody>\n",
       "    <tr>\n",
       "      <th>2014-01-06</th>\n",
       "      <td>2573.820</td>\n",
       "    </tr>\n",
       "    <tr>\n",
       "      <th>2014-01-07</th>\n",
       "      <td>76.728</td>\n",
       "    </tr>\n",
       "    <tr>\n",
       "      <th>2014-01-10</th>\n",
       "      <td>51.940</td>\n",
       "    </tr>\n",
       "    <tr>\n",
       "      <th>2014-01-11</th>\n",
       "      <td>9.940</td>\n",
       "    </tr>\n",
       "    <tr>\n",
       "      <th>2014-01-13</th>\n",
       "      <td>879.939</td>\n",
       "    </tr>\n",
       "    <tr>\n",
       "      <th>2014-01-14</th>\n",
       "      <td>61.960</td>\n",
       "    </tr>\n",
       "    <tr>\n",
       "      <th>2014-01-16</th>\n",
       "      <td>127.104</td>\n",
       "    </tr>\n",
       "    <tr>\n",
       "      <th>2014-01-19</th>\n",
       "      <td>181.470</td>\n",
       "    </tr>\n",
       "    <tr>\n",
       "      <th>2014-01-20</th>\n",
       "      <td>1413.510</td>\n",
       "    </tr>\n",
       "    <tr>\n",
       "      <th>2014-01-21</th>\n",
       "      <td>25.248</td>\n",
       "    </tr>\n",
       "  </tbody>\n",
       "</table>\n",
       "</div>"
      ],
      "text/plain": [
       "               Sales\n",
       "Order Date          \n",
       "2014-01-06  2573.820\n",
       "2014-01-07    76.728\n",
       "2014-01-10    51.940\n",
       "2014-01-11     9.940\n",
       "2014-01-13   879.939\n",
       "2014-01-14    61.960\n",
       "2014-01-16   127.104\n",
       "2014-01-19   181.470\n",
       "2014-01-20  1413.510\n",
       "2014-01-21    25.248"
      ]
     },
     "execution_count": 19,
     "metadata": {},
     "output_type": "execute_result"
    }
   ],
   "source": [
    "Furniture.head(10)"
   ]
  },
  {
   "cell_type": "code",
   "execution_count": 20,
   "id": "7d0610dd",
   "metadata": {},
   "outputs": [
    {
     "data": {
      "text/plain": [
       "DatetimeIndex(['2014-01-06', '2014-01-07', '2014-01-10', '2014-01-11',\n",
       "               '2014-01-13', '2014-01-14', '2014-01-16', '2014-01-19',\n",
       "               '2014-01-20', '2014-01-21',\n",
       "               ...\n",
       "               '2017-12-18', '2017-12-19', '2017-12-21', '2017-12-22',\n",
       "               '2017-12-23', '2017-12-24', '2017-12-25', '2017-12-28',\n",
       "               '2017-12-29', '2017-12-30'],\n",
       "              dtype='datetime64[ns]', name='Order Date', length=889, freq=None)"
      ]
     },
     "execution_count": 20,
     "metadata": {},
     "output_type": "execute_result"
    }
   ],
   "source": [
    "Furniture.index"
   ]
  },
  {
   "cell_type": "code",
   "execution_count": 21,
   "id": "161365ac",
   "metadata": {},
   "outputs": [],
   "source": [
    "y = Furniture['Sales'].resample('MS').mean()"
   ]
  },
  {
   "cell_type": "code",
   "execution_count": 22,
   "id": "a9ed97b6",
   "metadata": {},
   "outputs": [
    {
     "data": {
      "text/plain": [
       "Order Date\n",
       "2014-01-01     480.194231\n",
       "2014-02-01     367.931600\n",
       "2014-03-01     857.291529\n",
       "2014-04-01     567.488357\n",
       "2014-05-01     432.049187\n",
       "2014-06-01     695.059242\n",
       "2014-07-01     601.169500\n",
       "2014-08-01     457.521656\n",
       "2014-09-01     992.353367\n",
       "2014-10-01     769.015437\n",
       "2014-11-01     980.221486\n",
       "2014-12-01    1532.298325\n",
       "Freq: MS, Name: Sales, dtype: float64"
      ]
     },
     "execution_count": 22,
     "metadata": {},
     "output_type": "execute_result"
    }
   ],
   "source": [
    "y['2014']"
   ]
  },
  {
   "cell_type": "code",
   "execution_count": 23,
   "id": "e088854f",
   "metadata": {},
   "outputs": [
    {
     "data": {
      "text/plain": [
       "Order Date\n",
       "2015-01-01     978.328467\n",
       "2015-02-01     522.395667\n",
       "2015-03-01     781.236437\n",
       "2015-04-01     805.822962\n",
       "2015-05-01     624.996700\n",
       "2015-06-01     428.565500\n",
       "2015-07-01     719.706316\n",
       "2015-08-01     602.412012\n",
       "2015-09-01    1382.790684\n",
       "2015-10-01     632.980184\n",
       "2015-11-01    1286.701354\n",
       "2015-12-01    1049.355418\n",
       "Freq: MS, Name: Sales, dtype: float64"
      ]
     },
     "execution_count": 23,
     "metadata": {},
     "output_type": "execute_result"
    }
   ],
   "source": [
    "y['2015']"
   ]
  },
  {
   "cell_type": "code",
   "execution_count": 24,
   "id": "3900647f",
   "metadata": {},
   "outputs": [
    {
     "data": {
      "text/plain": [
       "Order Date\n",
       "2016-01-01     508.182867\n",
       "2016-02-01     356.868273\n",
       "2016-03-01     609.575810\n",
       "2016-04-01     695.373158\n",
       "2016-05-01     687.265227\n",
       "2016-06-01     816.910750\n",
       "2016-07-01     768.736412\n",
       "2016-08-01     734.307782\n",
       "2016-09-01    1135.953371\n",
       "2016-10-01     624.872474\n",
       "2016-11-01    1271.345152\n",
       "2016-12-01    1410.719808\n",
       "Freq: MS, Name: Sales, dtype: float64"
      ]
     },
     "execution_count": 24,
     "metadata": {},
     "output_type": "execute_result"
    }
   ],
   "source": [
    "y['2016']"
   ]
  },
  {
   "cell_type": "code",
   "execution_count": 25,
   "id": "bd0ab9bd",
   "metadata": {},
   "outputs": [
    {
     "data": {
      "text/plain": [
       "Order Date\n",
       "2017-01-01     397.602133\n",
       "2017-02-01     528.179800\n",
       "2017-03-01     544.672240\n",
       "2017-04-01     453.297905\n",
       "2017-05-01     678.302328\n",
       "2017-06-01     826.460291\n",
       "2017-07-01     562.524857\n",
       "2017-08-01     857.881889\n",
       "2017-09-01    1209.508583\n",
       "2017-10-01     875.362728\n",
       "2017-11-01    1277.817759\n",
       "2017-12-01    1256.298672\n",
       "Freq: MS, Name: Sales, dtype: float64"
      ]
     },
     "execution_count": 25,
     "metadata": {},
     "output_type": "execute_result"
    }
   ],
   "source": [
    "y['2017']"
   ]
  },
  {
   "cell_type": "code",
   "execution_count": 26,
   "id": "19b0a14c",
   "metadata": {},
   "outputs": [
    {
     "data": {
      "text/plain": [
       "<AxesSubplot:xlabel='Order Date'>"
      ]
     },
     "execution_count": 26,
     "metadata": {},
     "output_type": "execute_result"
    },
    {
     "data": {
      "image/png": "[encoded data removed]",
      "text/plain": [
       "<Figure size 432x288 with 1 Axes>"
      ]
     },
     "metadata": {
      "needs_background": "light"
     },
     "output_type": "display_data"
    }
   ],
   "source": [
    "Furniture.plot()"
   ]
  },
  {
   "cell_type": "code",
   "execution_count": 27,
   "id": "3a0e7541",
   "metadata": {},
   "outputs": [
    {
     "data": {
      "text/plain": [
       "<AxesSubplot:xlabel='Order Date'>"
      ]
     },
     "execution_count": 27,
     "metadata": {},
     "output_type": "execute_result"
    },
    {
     "data": {
      "image/png": "[encoded data removed]",
      "text/plain": [
       "<Figure size 432x288 with 1 Axes>"
      ]
     },
     "metadata": {
      "needs_background": "light"
     },
     "output_type": "display_data"
    }
   ],
   "source": [
    "y.plot()"
   ]
  },
  {
   "cell_type": "code",
   "execution_count": 28,
   "id": "11619882",
   "metadata": {},
   "outputs": [
    {
     "data": {
      "image/png": "[encoded data removed]",
      "text/plain": [
       "<Figure size 432x288 with 4 Axes>"
      ]
     },
     "metadata": {
      "needs_background": "light"
     },
     "output_type": "display_data"
    }
   ],
   "source": [
    "from statsmodels.tsa.seasonal import seasonal_decompose\n",
    "decomp = seasonal_decompose(y, model ='additive' )\n",
    "decomp.plot()\n",
    "plt.show()"
   ]
  },
  {
   "cell_type": "code",
   "execution_count": 30,
   "id": "61af1329",
   "metadata": {},
   "outputs": [
    {
     "data": {
      "text/plain": [
       "(-5.191070187339271,\n",
       " 9.168756655665654e-06,\n",
       " 10,\n",
       " 37,\n",
       " {'1%': -3.6209175221605827,\n",
       "  '5%': -2.9435394610388332,\n",
       "  '10%': -2.6104002410518627},\n",
       " 521.9616303121272)"
      ]
     },
     "execution_count": 30,
     "metadata": {},
     "output_type": "execute_result"
    }
   ],
   "source": [
    "# check data is stationary or not\n",
    "# we have to do augmented dickey fuller test where we have to see p-value\n",
    "\n",
    "from statsmodels.tsa.stattools import adfuller\n",
    "adfuller(y)"
   ]
  },
  {
   "cell_type": "code",
   "execution_count": 31,
   "id": "5fdb9f77",
   "metadata": {},
   "outputs": [],
   "source": [
    "# d =0"
   ]
  },
  {
   "cell_type": "code",
   "execution_count": 31,
   "id": "f51b767f",
   "metadata": {},
   "outputs": [],
   "source": [
    "Furniture['Seasonality'] = Furniture['Sales']-Furniture['Sales'].shift(12)"
   ]
  },
  {
   "cell_type": "code",
   "execution_count": 32,
   "id": "b5ac59b7",
   "metadata": {},
   "outputs": [
    {
     "data": {
      "text/html": [
       "<div>\n",
       "<style scoped>\n",
       "    .dataframe tbody tr th:only-of-type {\n",
       "        vertical-align: middle;\n",
       "    }\n",
       "\n",
       "    .dataframe tbody tr th {\n",
       "        vertical-align: top;\n",
       "    }\n",
       "\n",
       "    .dataframe thead th {\n",
       "        text-align: right;\n",
       "    }\n",
       "</style>\n",
       "<table border=\"1\" class=\"dataframe\">\n",
       "  <thead>\n",
       "    <tr style=\"text-align: right;\">\n",
       "      <th></th>\n",
       "      <th>Sales</th>\n",
       "      <th>Seasonality</th>\n",
       "    </tr>\n",
       "    <tr>\n",
       "      <th>Order Date</th>\n",
       "      <th></th>\n",
       "      <th></th>\n",
       "    </tr>\n",
       "  </thead>\n",
       "  <tbody>\n",
       "    <tr>\n",
       "      <th>2017-12-18</th>\n",
       "      <td>1380.6810</td>\n",
       "      <td>387.8990</td>\n",
       "    </tr>\n",
       "    <tr>\n",
       "      <th>2017-12-19</th>\n",
       "      <td>115.3780</td>\n",
       "      <td>-206.1020</td>\n",
       "    </tr>\n",
       "    <tr>\n",
       "      <th>2017-12-21</th>\n",
       "      <td>15.9200</td>\n",
       "      <td>-66.4600</td>\n",
       "    </tr>\n",
       "    <tr>\n",
       "      <th>2017-12-22</th>\n",
       "      <td>4086.4560</td>\n",
       "      <td>718.1910</td>\n",
       "    </tr>\n",
       "    <tr>\n",
       "      <th>2017-12-23</th>\n",
       "      <td>282.1140</td>\n",
       "      <td>-1645.1190</td>\n",
       "    </tr>\n",
       "    <tr>\n",
       "      <th>2017-12-24</th>\n",
       "      <td>1393.4940</td>\n",
       "      <td>-708.7700</td>\n",
       "    </tr>\n",
       "    <tr>\n",
       "      <th>2017-12-25</th>\n",
       "      <td>832.4540</td>\n",
       "      <td>-616.0750</td>\n",
       "    </tr>\n",
       "    <tr>\n",
       "      <th>2017-12-28</th>\n",
       "      <td>551.2568</td>\n",
       "      <td>62.2408</td>\n",
       "    </tr>\n",
       "    <tr>\n",
       "      <th>2017-12-29</th>\n",
       "      <td>2330.7180</td>\n",
       "      <td>478.1860</td>\n",
       "    </tr>\n",
       "    <tr>\n",
       "      <th>2017-12-30</th>\n",
       "      <td>323.1360</td>\n",
       "      <td>300.3660</td>\n",
       "    </tr>\n",
       "  </tbody>\n",
       "</table>\n",
       "</div>"
      ],
      "text/plain": [
       "                Sales  Seasonality\n",
       "Order Date                        \n",
       "2017-12-18  1380.6810     387.8990\n",
       "2017-12-19   115.3780    -206.1020\n",
       "2017-12-21    15.9200     -66.4600\n",
       "2017-12-22  4086.4560     718.1910\n",
       "2017-12-23   282.1140   -1645.1190\n",
       "2017-12-24  1393.4940    -708.7700\n",
       "2017-12-25   832.4540    -616.0750\n",
       "2017-12-28   551.2568      62.2408\n",
       "2017-12-29  2330.7180     478.1860\n",
       "2017-12-30   323.1360     300.3660"
      ]
     },
     "execution_count": 32,
     "metadata": {},
     "output_type": "execute_result"
    }
   ],
   "source": [
    "Furniture.tail(10)"
   ]
  },
  {
   "cell_type": "code",
   "execution_count": 33,
   "id": "072ed117",
   "metadata": {},
   "outputs": [
    {
     "data": {
      "text/plain": [
       "(-13.836757076990251,\n",
       " 7.418720599858759e-26,\n",
       " 11,\n",
       " 865,\n",
       " {'1%': -3.4379324415517494,\n",
       "  '5%': -2.864887107873992,\n",
       "  '10%': -2.568552251328143},\n",
       " 14596.630255245018)"
      ]
     },
     "execution_count": 33,
     "metadata": {},
     "output_type": "execute_result"
    }
   ],
   "source": [
    "adfuller(Furniture['Seasonality'].dropna())"
   ]
  },
  {
   "cell_type": "code",
   "execution_count": 34,
   "id": "293a5248",
   "metadata": {},
   "outputs": [],
   "source": [
    "# d = 0\n",
    "# D = 1\n",
    "from statsmodels.graphics.tsaplots import plot_acf, plot_pacf"
   ]
  },
  {
   "cell_type": "code",
   "execution_count": 35,
   "id": "ad411d2b",
   "metadata": {},
   "outputs": [
    {
     "data": {
      "image/png": "[encoded data removed]",
      "text/plain": [
       "<Figure size 432x288 with 1 Axes>"
      ]
     },
     "metadata": {
      "needs_background": "light"
     },
     "output_type": "display_data"
    }
   ],
   "source": [
    "plot_acf(Furniture['Sales'], lags=10)\n",
    "plt.show()"
   ]
  },
  {
   "cell_type": "code",
   "execution_count": 36,
   "id": "5ed902d8",
   "metadata": {},
   "outputs": [
    {
     "data": {
      "image/png": "[encoded data removed]",
      "text/plain": [
       "<Figure size 432x288 with 1 Axes>"
      ]
     },
     "metadata": {
      "needs_background": "light"
     },
     "output_type": "display_data"
    }
   ],
   "source": [
    "plot_pacf(Furniture['Sales'], lags=10)\n",
    "plt.show()"
   ]
  },
  {
   "cell_type": "code",
   "execution_count": 37,
   "id": "a6ec958c",
   "metadata": {},
   "outputs": [],
   "source": [
    "# d = 0\n",
    "# p = 0\n",
    "# q = 0\n",
    "# D = 1"
   ]
  },
  {
   "cell_type": "code",
   "execution_count": 38,
   "id": "b20dfc39",
   "metadata": {},
   "outputs": [
    {
     "name": "stderr",
     "output_type": "stream",
     "text": [
      "C:\\Users\\Lenovo\\anaconda3\\lib\\site-packages\\numpy\\core\\_asarray.py:83: UserWarning: Warning: converting a masked element to nan.\n",
      "  return array(a, dtype, copy=False, order=order)\n"
     ]
    },
    {
     "data": {
      "image/png": "[encoded data removed]",
      "text/plain": [
       "<Figure size 432x288 with 1 Axes>"
      ]
     },
     "metadata": {
      "needs_background": "light"
     },
     "output_type": "display_data"
    }
   ],
   "source": [
    "plot_acf(Furniture['Seasonality'], lags=10)\n",
    "plt.show()"
   ]
  },
  {
   "cell_type": "code",
   "execution_count": 39,
   "id": "e85b3464",
   "metadata": {},
   "outputs": [
    {
     "data": {
      "image/png": "[encoded data removed]",
      "text/plain": [
       "<Figure size 432x288 with 1 Axes>"
      ]
     },
     "metadata": {
      "needs_background": "light"
     },
     "output_type": "display_data"
    }
   ],
   "source": [
    "plot_pacf(Furniture['Seasonality'], lags=10)\n",
    "plt.show()"
   ]
  },
  {
   "cell_type": "code",
   "execution_count": 41,
   "id": "3b51a464",
   "metadata": {},
   "outputs": [],
   "source": [
    "# d = 0\n",
    "# p = 0\n",
    "# q = 0\n",
    "# D = 1\n",
    "# P = 0\n",
    "# Q = 0"
   ]
  },
  {
   "cell_type": "code",
   "execution_count": 40,
   "id": "b7e1ddb7",
   "metadata": {},
   "outputs": [],
   "source": [
    "from statsmodels.tsa.arima_model import ARIMA\n",
    "import statsmodels.api as sm"
   ]
  },
  {
   "cell_type": "code",
   "execution_count": 41,
   "id": "ff8620bd",
   "metadata": {},
   "outputs": [
    {
     "name": "stderr",
     "output_type": "stream",
     "text": [
      "C:\\Users\\Lenovo\\anaconda3\\lib\\site-packages\\statsmodels\\tsa\\base\\tsa_model.py:581: ValueWarning: A date index has been provided, but it has no associated frequency information and so will be ignored when e.g. forecasting.\n",
      "  warnings.warn('A date index has been provided, but it has no'\n",
      "C:\\Users\\Lenovo\\anaconda3\\lib\\site-packages\\statsmodels\\tsa\\base\\tsa_model.py:581: ValueWarning: A date index has been provided, but it has no associated frequency information and so will be ignored when e.g. forecasting.\n",
      "  warnings.warn('A date index has been provided, but it has no'\n"
     ]
    }
   ],
   "source": [
    "model = sm.tsa.statespace.SARIMAX(Furniture['Sales'], order=(0,0,0), seasonal_order=(0,1,0,12))"
   ]
  },
  {
   "cell_type": "code",
   "execution_count": 42,
   "id": "4ae754d6",
   "metadata": {},
   "outputs": [],
   "source": [
    "result = model.fit()"
   ]
  },
  {
   "cell_type": "code",
   "execution_count": 43,
   "id": "79a6beed",
   "metadata": {},
   "outputs": [
    {
     "name": "stdout",
     "output_type": "stream",
     "text": [
      "                                SARIMAX Results                                 \n",
      "================================================================================\n",
      "Dep. Variable:                    Sales   No. Observations:                  889\n",
      "Model:             SARIMAX(0, 1, 0, 12)   Log Likelihood               -7593.944\n",
      "Date:                  Wed, 29 Sep 2021   AIC                          15189.888\n",
      "Time:                          20:51:09   BIC                          15194.665\n",
      "Sample:                               0   HQIC                         15191.715\n",
      "                                  - 889                                         \n",
      "Covariance Type:                    opg                                         \n",
      "==============================================================================\n",
      "                 coef    std err          z      P>|z|      [0.025      0.975]\n",
      "------------------------------------------------------------------------------\n",
      "sigma2      1.917e+06   4.39e+04     43.724      0.000    1.83e+06       2e+06\n",
      "===================================================================================\n",
      "Ljung-Box (L1) (Q):                   0.74   Jarque-Bera (JB):              1540.19\n",
      "Prob(Q):                              0.39   Prob(JB):                         0.00\n",
      "Heteroskedasticity (H):               0.92   Skew:                            -0.11\n",
      "Prob(H) (two-sided):                  0.47   Kurtosis:                         9.49\n",
      "===================================================================================\n",
      "\n",
      "Warnings:\n",
      "[1] Covariance matrix calculated using the outer product of gradients (complex-step).\n"
     ]
    }
   ],
   "source": [
    "print(result.summary())"
   ]
  },
  {
   "cell_type": "code",
   "execution_count": 44,
   "id": "50de1e38",
   "metadata": {},
   "outputs": [
    {
     "name": "stdout",
     "output_type": "stream",
     "text": [
      "Few Parameter combinations are as follow :\n",
      "(0, 0, 0) * (0, 0, 0, 12)\n",
      "(0, 0, 1) * (0, 0, 1, 12)\n",
      "(0, 1, 0) * (0, 1, 0, 12)\n"
     ]
    }
   ],
   "source": [
    "# AutoArima approach\n",
    "# Best Seq : order=? , seasonal_order=? : AIC = ?\n",
    "\n",
    "import itertools\n",
    "p = d = q = range(0,2)\n",
    "pdq = list(itertools.product(p, d, q)) # For trend\n",
    "\n",
    "seasonal_pdq = [(x[0],x[1],x[2],12) for x in pdq] # for seasonality\n",
    "\n",
    "print('Few Parameter combinations are as follow :')\n",
    "print('{} * {}'.format (pdq[0], seasonal_pdq[0]))\n",
    "print('{} * {}'.format (pdq[1], seasonal_pdq[1]))\n",
    "print('{} * {}'.format (pdq[2], seasonal_pdq[2]))"
   ]
  },
  {
   "cell_type": "code",
   "execution_count": 45,
   "id": "3e621fee",
   "metadata": {},
   "outputs": [
    {
     "name": "stdout",
     "output_type": "stream",
     "text": [
      "ARIMA(0, 0, 0) * (0, 0, 0, 12) - AIC:769.0817523205915\n",
      "ARIMA(0, 0, 0) * (0, 0, 1, 12) - AIC:1364.6386166053537\n",
      "ARIMA(0, 0, 0) * (0, 1, 0, 12) - AIC:477.71701309202774\n"
     ]
    },
    {
     "name": "stderr",
     "output_type": "stream",
     "text": [
      "C:\\Users\\Lenovo\\anaconda3\\lib\\site-packages\\statsmodels\\base\\model.py:566: ConvergenceWarning: Maximum Likelihood optimization failed to converge. Check mle_retvals\n",
      "  warnings.warn(\"Maximum Likelihood optimization failed to \"\n",
      "C:\\Users\\Lenovo\\anaconda3\\lib\\site-packages\\statsmodels\\tsa\\statespace\\sarimax.py:866: UserWarning: Too few observations to estimate starting parameters for seasonal ARMA. All parameters except for variances will be set to zeros.\n",
      "  warn('Too few observations to estimate starting parameters%s.'\n"
     ]
    },
    {
     "name": "stdout",
     "output_type": "stream",
     "text": [
      "ARIMA(0, 0, 0) * (0, 1, 1, 12) - AIC:302.27028997937504\n",
      "ARIMA(0, 0, 0) * (1, 0, 0, 12) - AIC:497.2314433418337\n",
      "ARIMA(0, 0, 0) * (1, 0, 1, 12) - AIC:1317.2892299195587\n",
      "ARIMA(0, 0, 0) * (1, 1, 0, 12) - AIC:318.0047199116341\n",
      "ARIMA(0, 0, 0) * (1, 1, 1, 12) - AIC:304.2488280302272\n",
      "ARIMA(0, 0, 1) * (0, 0, 0, 12) - AIC:720.9252270758113\n"
     ]
    },
    {
     "name": "stderr",
     "output_type": "stream",
     "text": [
      "C:\\Users\\Lenovo\\anaconda3\\lib\\site-packages\\statsmodels\\base\\model.py:566: ConvergenceWarning: Maximum Likelihood optimization failed to converge. Check mle_retvals\n",
      "  warnings.warn(\"Maximum Likelihood optimization failed to \"\n"
     ]
    },
    {
     "name": "stdout",
     "output_type": "stream",
     "text": [
      "ARIMA(0, 0, 1) * (0, 0, 1, 12) - AIC:2705.1629603056913\n",
      "ARIMA(0, 0, 1) * (0, 1, 0, 12) - AIC:466.5607429809139\n",
      "ARIMA(0, 0, 1) * (0, 1, 1, 12) - AIC:291.6261389673282\n"
     ]
    },
    {
     "name": "stderr",
     "output_type": "stream",
     "text": [
      "C:\\Users\\Lenovo\\anaconda3\\lib\\site-packages\\statsmodels\\base\\model.py:566: ConvergenceWarning: Maximum Likelihood optimization failed to converge. Check mle_retvals\n",
      "  warnings.warn(\"Maximum Likelihood optimization failed to \"\n",
      "C:\\Users\\Lenovo\\anaconda3\\lib\\site-packages\\statsmodels\\base\\model.py:566: ConvergenceWarning: Maximum Likelihood optimization failed to converge. Check mle_retvals\n",
      "  warnings.warn(\"Maximum Likelihood optimization failed to \"\n"
     ]
    },
    {
     "name": "stdout",
     "output_type": "stream",
     "text": [
      "ARIMA(0, 0, 1) * (1, 0, 0, 12) - AIC:499.6087496085084\n",
      "ARIMA(0, 0, 1) * (1, 0, 1, 12) - AIC:2454.0941646143106\n",
      "ARIMA(0, 0, 1) * (1, 1, 0, 12) - AIC:319.98848769468674\n",
      "ARIMA(0, 0, 1) * (1, 1, 1, 12) - AIC:291.8725576448064\n",
      "ARIMA(0, 1, 0) * (0, 0, 0, 12) - AIC:677.894766859465\n"
     ]
    },
    {
     "name": "stderr",
     "output_type": "stream",
     "text": [
      "C:\\Users\\Lenovo\\anaconda3\\lib\\site-packages\\statsmodels\\base\\model.py:566: ConvergenceWarning: Maximum Likelihood optimization failed to converge. Check mle_retvals\n",
      "  warnings.warn(\"Maximum Likelihood optimization failed to \"\n"
     ]
    },
    {
     "name": "stdout",
     "output_type": "stream",
     "text": [
      "ARIMA(0, 1, 0) * (0, 0, 1, 12) - AIC:1537.9689451526765\n",
      "ARIMA(0, 1, 0) * (0, 1, 0, 12) - AIC:486.63785672412575\n",
      "ARIMA(0, 1, 0) * (0, 1, 1, 12) - AIC:304.96712281679663\n",
      "ARIMA(0, 1, 0) * (1, 0, 0, 12) - AIC:497.78896630044073\n"
     ]
    },
    {
     "name": "stderr",
     "output_type": "stream",
     "text": [
      "C:\\Users\\Lenovo\\anaconda3\\lib\\site-packages\\statsmodels\\base\\model.py:566: ConvergenceWarning: Maximum Likelihood optimization failed to converge. Check mle_retvals\n",
      "  warnings.warn(\"Maximum Likelihood optimization failed to \"\n"
     ]
    },
    {
     "name": "stdout",
     "output_type": "stream",
     "text": [
      "ARIMA(0, 1, 0) * (1, 0, 1, 12) - AIC:1042.3481557596147\n",
      "ARIMA(0, 1, 0) * (1, 1, 0, 12) - AIC:319.7714068109211\n",
      "ARIMA(0, 1, 0) * (1, 1, 1, 12) - AIC:306.911320015139\n",
      "ARIMA(0, 1, 1) * (0, 0, 0, 12) - AIC:649.9056176816974\n"
     ]
    },
    {
     "name": "stderr",
     "output_type": "stream",
     "text": [
      "C:\\Users\\Lenovo\\anaconda3\\lib\\site-packages\\statsmodels\\base\\model.py:566: ConvergenceWarning: Maximum Likelihood optimization failed to converge. Check mle_retvals\n",
      "  warnings.warn(\"Maximum Likelihood optimization failed to \"\n"
     ]
    },
    {
     "name": "stdout",
     "output_type": "stream",
     "text": [
      "ARIMA(0, 1, 1) * (0, 0, 1, 12) - AIC:2095.6671006116485\n",
      "ARIMA(0, 1, 1) * (0, 1, 0, 12) - AIC:458.87055484827295\n",
      "ARIMA(0, 1, 1) * (0, 1, 1, 12) - AIC:279.5806233332879\n",
      "ARIMA(0, 1, 1) * (1, 0, 0, 12) - AIC:486.18329774426724\n"
     ]
    },
    {
     "name": "stderr",
     "output_type": "stream",
     "text": [
      "C:\\Users\\Lenovo\\anaconda3\\lib\\site-packages\\statsmodels\\base\\model.py:566: ConvergenceWarning: Maximum Likelihood optimization failed to converge. Check mle_retvals\n",
      "  warnings.warn(\"Maximum Likelihood optimization failed to \"\n"
     ]
    },
    {
     "name": "stdout",
     "output_type": "stream",
     "text": [
      "ARIMA(0, 1, 1) * (1, 0, 1, 12) - AIC:2100.097925113873\n",
      "ARIMA(0, 1, 1) * (1, 1, 0, 12) - AIC:310.7574368417284\n",
      "ARIMA(0, 1, 1) * (1, 1, 1, 12) - AIC:281.55766214612464\n",
      "ARIMA(1, 0, 0) * (0, 0, 0, 12) - AIC:692.1645522067712\n"
     ]
    },
    {
     "name": "stderr",
     "output_type": "stream",
     "text": [
      "C:\\Users\\Lenovo\\anaconda3\\lib\\site-packages\\statsmodels\\base\\model.py:566: ConvergenceWarning: Maximum Likelihood optimization failed to converge. Check mle_retvals\n",
      "  warnings.warn(\"Maximum Likelihood optimization failed to \"\n"
     ]
    },
    {
     "name": "stdout",
     "output_type": "stream",
     "text": [
      "ARIMA(1, 0, 0) * (0, 0, 1, 12) - AIC:1247.8803113087401\n",
      "ARIMA(1, 0, 0) * (0, 1, 0, 12) - AIC:479.4632147852136\n",
      "ARIMA(1, 0, 0) * (0, 1, 1, 12) - AIC:304.20776751609566\n",
      "ARIMA(1, 0, 0) * (1, 0, 0, 12) - AIC:480.9259367935207\n"
     ]
    },
    {
     "name": "stderr",
     "output_type": "stream",
     "text": [
      "C:\\Users\\Lenovo\\anaconda3\\lib\\site-packages\\statsmodels\\base\\model.py:566: ConvergenceWarning: Maximum Likelihood optimization failed to converge. Check mle_retvals\n",
      "  warnings.warn(\"Maximum Likelihood optimization failed to \"\n"
     ]
    },
    {
     "name": "stdout",
     "output_type": "stream",
     "text": [
      "ARIMA(1, 0, 0) * (1, 0, 1, 12) - AIC:1076.1094524422078\n",
      "ARIMA(1, 0, 0) * (1, 1, 0, 12) - AIC:304.46646750845895\n",
      "ARIMA(1, 0, 0) * (1, 1, 1, 12) - AIC:304.58426921438866\n",
      "ARIMA(1, 0, 1) * (0, 0, 0, 12) - AIC:665.7794442185892\n"
     ]
    },
    {
     "name": "stderr",
     "output_type": "stream",
     "text": [
      "C:\\Users\\Lenovo\\anaconda3\\lib\\site-packages\\statsmodels\\base\\model.py:566: ConvergenceWarning: Maximum Likelihood optimization failed to converge. Check mle_retvals\n",
      "  warnings.warn(\"Maximum Likelihood optimization failed to \"\n"
     ]
    },
    {
     "name": "stdout",
     "output_type": "stream",
     "text": [
      "ARIMA(1, 0, 1) * (0, 0, 1, 12) - AIC:2230.080805185739\n",
      "ARIMA(1, 0, 1) * (0, 1, 0, 12) - AIC:468.3685195815058\n",
      "ARIMA(1, 0, 1) * (0, 1, 1, 12) - AIC:293.342219396598\n",
      "ARIMA(1, 0, 1) * (1, 0, 0, 12) - AIC:482.57633238770444\n"
     ]
    },
    {
     "name": "stderr",
     "output_type": "stream",
     "text": [
      "C:\\Users\\Lenovo\\anaconda3\\lib\\site-packages\\statsmodels\\base\\model.py:566: ConvergenceWarning: Maximum Likelihood optimization failed to converge. Check mle_retvals\n",
      "  warnings.warn(\"Maximum Likelihood optimization failed to \"\n"
     ]
    },
    {
     "name": "stdout",
     "output_type": "stream",
     "text": [
      "ARIMA(1, 0, 1) * (1, 0, 1, 12) - AIC:2431.4945540564113\n",
      "ARIMA(1, 0, 1) * (1, 1, 0, 12) - AIC:306.01560022946927\n",
      "ARIMA(1, 0, 1) * (1, 1, 1, 12) - AIC:293.7513188251469\n",
      "ARIMA(1, 1, 0) * (0, 0, 0, 12) - AIC:671.2513547541902\n"
     ]
    },
    {
     "name": "stderr",
     "output_type": "stream",
     "text": [
      "C:\\Users\\Lenovo\\anaconda3\\lib\\site-packages\\statsmodels\\base\\model.py:566: ConvergenceWarning: Maximum Likelihood optimization failed to converge. Check mle_retvals\n",
      "  warnings.warn(\"Maximum Likelihood optimization failed to \"\n"
     ]
    },
    {
     "name": "stdout",
     "output_type": "stream",
     "text": [
      "ARIMA(1, 1, 0) * (0, 0, 1, 12) - AIC:1174.828546072082\n",
      "ARIMA(1, 1, 0) * (0, 1, 0, 12) - AIC:479.2003422281134\n",
      "ARIMA(1, 1, 0) * (0, 1, 1, 12) - AIC:300.21306116190965\n",
      "ARIMA(1, 1, 0) * (1, 0, 0, 12) - AIC:475.3403658785116\n"
     ]
    },
    {
     "name": "stderr",
     "output_type": "stream",
     "text": [
      "C:\\Users\\Lenovo\\anaconda3\\lib\\site-packages\\statsmodels\\base\\model.py:566: ConvergenceWarning: Maximum Likelihood optimization failed to converge. Check mle_retvals\n",
      "  warnings.warn(\"Maximum Likelihood optimization failed to \"\n"
     ]
    },
    {
     "name": "stdout",
     "output_type": "stream",
     "text": [
      "ARIMA(1, 1, 0) * (1, 0, 1, 12) - AIC:1020.3063192742158\n",
      "ARIMA(1, 1, 0) * (1, 1, 0, 12) - AIC:300.6270901345447\n",
      "ARIMA(1, 1, 0) * (1, 1, 1, 12) - AIC:302.326499250453\n",
      "ARIMA(1, 1, 1) * (0, 0, 0, 12) - AIC:649.0318019835447\n"
     ]
    },
    {
     "name": "stderr",
     "output_type": "stream",
     "text": [
      "C:\\Users\\Lenovo\\anaconda3\\lib\\site-packages\\statsmodels\\base\\model.py:566: ConvergenceWarning: Maximum Likelihood optimization failed to converge. Check mle_retvals\n",
      "  warnings.warn(\"Maximum Likelihood optimization failed to \"\n"
     ]
    },
    {
     "name": "stdout",
     "output_type": "stream",
     "text": [
      "ARIMA(1, 1, 1) * (0, 0, 1, 12) - AIC:196.27849067918328\n",
      "ARIMA(1, 1, 1) * (0, 1, 0, 12) - AIC:460.47626876104795\n",
      "ARIMA(1, 1, 1) * (0, 1, 1, 12) - AIC:281.38730069393705\n",
      "ARIMA(1, 1, 1) * (1, 0, 0, 12) - AIC:469.5250354660799\n"
     ]
    },
    {
     "name": "stderr",
     "output_type": "stream",
     "text": [
      "C:\\Users\\Lenovo\\anaconda3\\lib\\site-packages\\statsmodels\\base\\model.py:566: ConvergenceWarning: Maximum Likelihood optimization failed to converge. Check mle_retvals\n",
      "  warnings.warn(\"Maximum Likelihood optimization failed to \"\n"
     ]
    },
    {
     "name": "stdout",
     "output_type": "stream",
     "text": [
      "ARIMA(1, 1, 1) * (1, 0, 1, 12) - AIC:299.386195657109\n",
      "ARIMA(1, 1, 1) * (1, 1, 0, 12) - AIC:297.7875439535404\n",
      "ARIMA(1, 1, 1) * (1, 1, 1, 12) - AIC:283.3661014413585\n"
     ]
    }
   ],
   "source": [
    "for param in pdq:\n",
    "    for param_seasonal in seasonal_pdq:\n",
    "        try:\n",
    "            model = sm.tsa.statespace.SARIMAX(y,\n",
    "                                              order= param, seasonal_order=param_seasonal,\n",
    "                                              enforce_stationarity=False,\n",
    "                                              enforce_invertibility=False)\n",
    "            result = model.fit()\n",
    "            print('ARIMA{} * {} - AIC:{}'.format(param, param_seasonal, result.aic))\n",
    "        except:\n",
    "            continue"
   ]
  },
  {
   "cell_type": "code",
   "execution_count": 48,
   "id": "a2ee62db",
   "metadata": {},
   "outputs": [
    {
     "data": {
      "text/plain": [
       "889"
      ]
     },
     "execution_count": 48,
     "metadata": {},
     "output_type": "execute_result"
    }
   ],
   "source": [
    "# ARIMA(1, 1, 1) * (0, 0, 1, 12) - AIC:196.27849067918328\n",
    "len(Furniture)"
   ]
  },
  {
   "cell_type": "code",
   "execution_count": 46,
   "id": "10f128ad",
   "metadata": {},
   "outputs": [
    {
     "name": "stderr",
     "output_type": "stream",
     "text": [
      "C:\\Users\\Lenovo\\anaconda3\\lib\\site-packages\\statsmodels\\tsa\\base\\tsa_model.py:581: ValueWarning: A date index has been provided, but it has no associated frequency information and so will be ignored when e.g. forecasting.\n",
      "  warnings.warn('A date index has been provided, but it has no'\n",
      "C:\\Users\\Lenovo\\anaconda3\\lib\\site-packages\\statsmodels\\tsa\\base\\tsa_model.py:581: ValueWarning: A date index has been provided, but it has no associated frequency information and so will be ignored when e.g. forecasting.\n",
      "  warnings.warn('A date index has been provided, but it has no'\n"
     ]
    }
   ],
   "source": [
    "model = sm.tsa.statespace.SARIMAX(Furniture['Sales'], order=(1,1,1), seasonal_order=(0,0,1,12))"
   ]
  },
  {
   "cell_type": "code",
   "execution_count": 47,
   "id": "9989cd18",
   "metadata": {},
   "outputs": [],
   "source": [
    "result = model.fit()"
   ]
  },
  {
   "cell_type": "code",
   "execution_count": 51,
   "id": "4de3b0b6",
   "metadata": {},
   "outputs": [],
   "source": [
    "# Evaluate with training dataset first\n",
    "#Furniture['forecast'] = result.predict(start=10, end=800, dynamic=True)\n",
    "#Furniture[['Sales','forecast']].plot()"
   ]
  },
  {
   "cell_type": "code",
   "execution_count": 48,
   "id": "e58994cf",
   "metadata": {},
   "outputs": [
    {
     "data": {
      "image/png": "[encoded data removed]",
      "text/plain": [
       "<Figure size 1152x576 with 4 Axes>"
      ]
     },
     "metadata": {
      "needs_background": "light"
     },
     "output_type": "display_data"
    }
   ],
   "source": [
    "result.plot_diagnostics(figsize=(16,8))\n",
    "plt.show()"
   ]
  },
  {
   "cell_type": "code",
   "execution_count": 49,
   "id": "9e41cad6",
   "metadata": {},
   "outputs": [],
   "source": [
    "from pandas.tseries.offsets import DateOffset"
   ]
  },
  {
   "cell_type": "code",
   "execution_count": 50,
   "id": "937136cf",
   "metadata": {},
   "outputs": [],
   "source": [
    "future_dates = [Furniture.index[-1] + DateOffset(months=x) for x in range(0,13)]"
   ]
  },
  {
   "cell_type": "code",
   "execution_count": 51,
   "id": "ff7162ce",
   "metadata": {},
   "outputs": [
    {
     "data": {
      "text/plain": [
       "[Timestamp('2017-12-30 00:00:00'),\n",
       " Timestamp('2018-01-30 00:00:00'),\n",
       " Timestamp('2018-02-28 00:00:00'),\n",
       " Timestamp('2018-03-30 00:00:00'),\n",
       " Timestamp('2018-04-30 00:00:00'),\n",
       " Timestamp('2018-05-30 00:00:00'),\n",
       " Timestamp('2018-06-30 00:00:00'),\n",
       " Timestamp('2018-07-30 00:00:00'),\n",
       " Timestamp('2018-08-30 00:00:00'),\n",
       " Timestamp('2018-09-30 00:00:00'),\n",
       " Timestamp('2018-10-30 00:00:00'),\n",
       " Timestamp('2018-11-30 00:00:00'),\n",
       " Timestamp('2018-12-30 00:00:00')]"
      ]
     },
     "execution_count": 51,
     "metadata": {},
     "output_type": "execute_result"
    }
   ],
   "source": [
    "future_dates"
   ]
  },
  {
   "cell_type": "code",
   "execution_count": 52,
   "id": "e55078fd",
   "metadata": {},
   "outputs": [],
   "source": [
    "future_dates_df = pd.DataFrame(index = future_dates[1:], columns = Furniture.columns)"
   ]
  },
  {
   "cell_type": "code",
   "execution_count": 53,
   "id": "0396f4ad",
   "metadata": {},
   "outputs": [
    {
     "data": {
      "text/plain": [
       "889"
      ]
     },
     "execution_count": 53,
     "metadata": {},
     "output_type": "execute_result"
    }
   ],
   "source": [
    "len(Furniture)"
   ]
  },
  {
   "cell_type": "code",
   "execution_count": 54,
   "id": "b8490e07",
   "metadata": {},
   "outputs": [],
   "source": [
    "future_dates_df = pd.concat([Furniture, future_dates_df])"
   ]
  },
  {
   "cell_type": "code",
   "execution_count": 56,
   "id": "13158bb8",
   "metadata": {},
   "outputs": [
    {
     "data": {
      "text/html": [
       "<div>\n",
       "<style scoped>\n",
       "    .dataframe tbody tr th:only-of-type {\n",
       "        vertical-align: middle;\n",
       "    }\n",
       "\n",
       "    .dataframe tbody tr th {\n",
       "        vertical-align: top;\n",
       "    }\n",
       "\n",
       "    .dataframe thead th {\n",
       "        text-align: right;\n",
       "    }\n",
       "</style>\n",
       "<table border=\"1\" class=\"dataframe\">\n",
       "  <thead>\n",
       "    <tr style=\"text-align: right;\">\n",
       "      <th></th>\n",
       "      <th>Sales</th>\n",
       "      <th>Seasonality</th>\n",
       "    </tr>\n",
       "  </thead>\n",
       "  <tbody>\n",
       "    <tr>\n",
       "      <th>2017-12-21</th>\n",
       "      <td>15.9200</td>\n",
       "      <td>-66.4600</td>\n",
       "    </tr>\n",
       "    <tr>\n",
       "      <th>2017-12-22</th>\n",
       "      <td>4086.4560</td>\n",
       "      <td>718.1910</td>\n",
       "    </tr>\n",
       "    <tr>\n",
       "      <th>2017-12-23</th>\n",
       "      <td>282.1140</td>\n",
       "      <td>-1645.1190</td>\n",
       "    </tr>\n",
       "    <tr>\n",
       "      <th>2017-12-24</th>\n",
       "      <td>1393.4940</td>\n",
       "      <td>-708.7700</td>\n",
       "    </tr>\n",
       "    <tr>\n",
       "      <th>2017-12-25</th>\n",
       "      <td>832.4540</td>\n",
       "      <td>-616.0750</td>\n",
       "    </tr>\n",
       "    <tr>\n",
       "      <th>2017-12-28</th>\n",
       "      <td>551.2568</td>\n",
       "      <td>62.2408</td>\n",
       "    </tr>\n",
       "    <tr>\n",
       "      <th>2017-12-29</th>\n",
       "      <td>2330.7180</td>\n",
       "      <td>478.1860</td>\n",
       "    </tr>\n",
       "    <tr>\n",
       "      <th>2017-12-30</th>\n",
       "      <td>323.1360</td>\n",
       "      <td>300.3660</td>\n",
       "    </tr>\n",
       "    <tr>\n",
       "      <th>2018-01-30</th>\n",
       "      <td>NaN</td>\n",
       "      <td>NaN</td>\n",
       "    </tr>\n",
       "    <tr>\n",
       "      <th>2018-02-28</th>\n",
       "      <td>NaN</td>\n",
       "      <td>NaN</td>\n",
       "    </tr>\n",
       "    <tr>\n",
       "      <th>2018-03-30</th>\n",
       "      <td>NaN</td>\n",
       "      <td>NaN</td>\n",
       "    </tr>\n",
       "    <tr>\n",
       "      <th>2018-04-30</th>\n",
       "      <td>NaN</td>\n",
       "      <td>NaN</td>\n",
       "    </tr>\n",
       "    <tr>\n",
       "      <th>2018-05-30</th>\n",
       "      <td>NaN</td>\n",
       "      <td>NaN</td>\n",
       "    </tr>\n",
       "    <tr>\n",
       "      <th>2018-06-30</th>\n",
       "      <td>NaN</td>\n",
       "      <td>NaN</td>\n",
       "    </tr>\n",
       "    <tr>\n",
       "      <th>2018-07-30</th>\n",
       "      <td>NaN</td>\n",
       "      <td>NaN</td>\n",
       "    </tr>\n",
       "    <tr>\n",
       "      <th>2018-08-30</th>\n",
       "      <td>NaN</td>\n",
       "      <td>NaN</td>\n",
       "    </tr>\n",
       "    <tr>\n",
       "      <th>2018-09-30</th>\n",
       "      <td>NaN</td>\n",
       "      <td>NaN</td>\n",
       "    </tr>\n",
       "    <tr>\n",
       "      <th>2018-10-30</th>\n",
       "      <td>NaN</td>\n",
       "      <td>NaN</td>\n",
       "    </tr>\n",
       "    <tr>\n",
       "      <th>2018-11-30</th>\n",
       "      <td>NaN</td>\n",
       "      <td>NaN</td>\n",
       "    </tr>\n",
       "    <tr>\n",
       "      <th>2018-12-30</th>\n",
       "      <td>NaN</td>\n",
       "      <td>NaN</td>\n",
       "    </tr>\n",
       "  </tbody>\n",
       "</table>\n",
       "</div>"
      ],
      "text/plain": [
       "                Sales  Seasonality\n",
       "2017-12-21    15.9200     -66.4600\n",
       "2017-12-22  4086.4560     718.1910\n",
       "2017-12-23   282.1140   -1645.1190\n",
       "2017-12-24  1393.4940    -708.7700\n",
       "2017-12-25   832.4540    -616.0750\n",
       "2017-12-28   551.2568      62.2408\n",
       "2017-12-29  2330.7180     478.1860\n",
       "2017-12-30   323.1360     300.3660\n",
       "2018-01-30        NaN          NaN\n",
       "2018-02-28        NaN          NaN\n",
       "2018-03-30        NaN          NaN\n",
       "2018-04-30        NaN          NaN\n",
       "2018-05-30        NaN          NaN\n",
       "2018-06-30        NaN          NaN\n",
       "2018-07-30        NaN          NaN\n",
       "2018-08-30        NaN          NaN\n",
       "2018-09-30        NaN          NaN\n",
       "2018-10-30        NaN          NaN\n",
       "2018-11-30        NaN          NaN\n",
       "2018-12-30        NaN          NaN"
      ]
     },
     "execution_count": 56,
     "metadata": {},
     "output_type": "execute_result"
    }
   ],
   "source": [
    "future_dates_df.tail(20)"
   ]
  },
  {
   "cell_type": "code",
   "execution_count": 57,
   "id": "0dbad6a9",
   "metadata": {},
   "outputs": [
    {
     "name": "stderr",
     "output_type": "stream",
     "text": [
      "C:\\Users\\Lenovo\\anaconda3\\lib\\site-packages\\statsmodels\\tsa\\base\\tsa_model.py:376: ValueWarning: No supported index is available. Prediction results will be given with an integer index beginning at `start`.\n",
      "  warnings.warn('No supported index is available.'\n"
     ]
    },
    {
     "data": {
      "text/plain": [
       "<AxesSubplot:>"
      ]
     },
     "execution_count": 57,
     "metadata": {},
     "output_type": "execute_result"
    },
    {
     "data": {
      "image/png": "[encoded data removed]",
      "text/plain": [
       "<Figure size 432x288 with 1 Axes>"
      ]
     },
     "metadata": {
      "needs_background": "light"
     },
     "output_type": "display_data"
    }
   ],
   "source": [
    "future_dates_df['forecast'] = result.predict(start=889, end=900, dynamic=True)\n",
    "future_dates_df[['Sales', 'forecast']].plot()"
   ]
  },
  {
   "cell_type": "code",
   "execution_count": 58,
   "id": "0292b303",
   "metadata": {},
   "outputs": [
    {
     "data": {
      "text/plain": [
       "2018-03-30   NaN\n",
       "2018-04-30   NaN\n",
       "2018-05-30   NaN\n",
       "2018-06-30   NaN\n",
       "2018-07-30   NaN\n",
       "2018-08-30   NaN\n",
       "2018-09-30   NaN\n",
       "2018-10-30   NaN\n",
       "2018-11-30   NaN\n",
       "2018-12-30   NaN\n",
       "Name: forecast, dtype: float64"
      ]
     },
     "execution_count": 58,
     "metadata": {},
     "output_type": "execute_result"
    }
   ],
   "source": [
    "future_dates_df['forecast'].tail(10)"
   ]
  },
  {
   "cell_type": "code",
   "execution_count": 59,
   "id": "8a05b2db",
   "metadata": {},
   "outputs": [],
   "source": [
    "pred_sales = result.get_prediction(Order_Date=pd.to_datetime('2017-01-01'), dynamic=False)\n",
    "pred_sales_value = pred_sales.conf_int()"
   ]
  },
  {
   "cell_type": "code",
   "execution_count": 60,
   "id": "f64e44c7",
   "metadata": {},
   "outputs": [
    {
     "data": {
      "text/html": [
       "<div>\n",
       "<style scoped>\n",
       "    .dataframe tbody tr th:only-of-type {\n",
       "        vertical-align: middle;\n",
       "    }\n",
       "\n",
       "    .dataframe tbody tr th {\n",
       "        vertical-align: top;\n",
       "    }\n",
       "\n",
       "    .dataframe thead th {\n",
       "        text-align: right;\n",
       "    }\n",
       "</style>\n",
       "<table border=\"1\" class=\"dataframe\">\n",
       "  <thead>\n",
       "    <tr style=\"text-align: right;\">\n",
       "      <th></th>\n",
       "      <th>lower Sales</th>\n",
       "      <th>upper Sales</th>\n",
       "    </tr>\n",
       "    <tr>\n",
       "      <th>Order Date</th>\n",
       "      <th></th>\n",
       "      <th></th>\n",
       "    </tr>\n",
       "  </thead>\n",
       "  <tbody>\n",
       "    <tr>\n",
       "      <th>2014-01-06</th>\n",
       "      <td>-3411.138762</td>\n",
       "      <td>3411.138762</td>\n",
       "    </tr>\n",
       "    <tr>\n",
       "      <th>2014-01-07</th>\n",
       "      <td>-844.919687</td>\n",
       "      <td>4221.389933</td>\n",
       "    </tr>\n",
       "    <tr>\n",
       "      <th>2014-01-10</th>\n",
       "      <td>-1214.298288</td>\n",
       "      <td>3408.731980</td>\n",
       "    </tr>\n",
       "    <tr>\n",
       "      <th>2014-01-11</th>\n",
       "      <td>-1418.905028</td>\n",
       "      <td>3005.623047</td>\n",
       "    </tr>\n",
       "    <tr>\n",
       "      <th>2014-01-13</th>\n",
       "      <td>-1538.705515</td>\n",
       "      <td>2773.118089</td>\n",
       "    </tr>\n",
       "    <tr>\n",
       "      <th>...</th>\n",
       "      <td>...</td>\n",
       "      <td>...</td>\n",
       "    </tr>\n",
       "    <tr>\n",
       "      <th>2017-12-24</th>\n",
       "      <td>-716.715705</td>\n",
       "      <td>3242.412460</td>\n",
       "    </tr>\n",
       "    <tr>\n",
       "      <th>2017-12-25</th>\n",
       "      <td>-758.593727</td>\n",
       "      <td>3200.534438</td>\n",
       "    </tr>\n",
       "    <tr>\n",
       "      <th>2017-12-28</th>\n",
       "      <td>-774.730528</td>\n",
       "      <td>3184.397637</td>\n",
       "    </tr>\n",
       "    <tr>\n",
       "      <th>2017-12-29</th>\n",
       "      <td>-763.090827</td>\n",
       "      <td>3196.037338</td>\n",
       "    </tr>\n",
       "    <tr>\n",
       "      <th>2017-12-30</th>\n",
       "      <td>-811.026849</td>\n",
       "      <td>3148.101316</td>\n",
       "    </tr>\n",
       "  </tbody>\n",
       "</table>\n",
       "<p>889 rows × 2 columns</p>\n",
       "</div>"
      ],
      "text/plain": [
       "            lower Sales  upper Sales\n",
       "Order Date                          \n",
       "2014-01-06 -3411.138762  3411.138762\n",
       "2014-01-07  -844.919687  4221.389933\n",
       "2014-01-10 -1214.298288  3408.731980\n",
       "2014-01-11 -1418.905028  3005.623047\n",
       "2014-01-13 -1538.705515  2773.118089\n",
       "...                 ...          ...\n",
       "2017-12-24  -716.715705  3242.412460\n",
       "2017-12-25  -758.593727  3200.534438\n",
       "2017-12-28  -774.730528  3184.397637\n",
       "2017-12-29  -763.090827  3196.037338\n",
       "2017-12-30  -811.026849  3148.101316\n",
       "\n",
       "[889 rows x 2 columns]"
      ]
     },
     "execution_count": 60,
     "metadata": {},
     "output_type": "execute_result"
    }
   ],
   "source": [
    "pred_sales_value"
   ]
  },
  {
   "cell_type": "code",
   "execution_count": 64,
   "id": "475de114",
   "metadata": {},
   "outputs": [],
   "source": [
    "# Will pick tomorrow - for converting monthly to daily and then will do forecasting"
   ]
  },
  {
   "cell_type": "code",
   "execution_count": 62,
   "id": "cb1dea38",
   "metadata": {},
   "outputs": [
    {
     "data": {
      "image/png": "[encoded data removed]",
      "text/plain": [
       "<Figure size 1008x504 with 1 Axes>"
      ]
     },
     "metadata": {
      "needs_background": "light"
     },
     "output_type": "display_data"
    }
   ],
   "source": [
    "pred = result.get_prediction(start=pd.to_datetime('2014-01-06'), dynamic=False) \n",
    "# variable to display plot for predicted values\n",
    "pred_val = pred.conf_int()\n",
    "ax = Furniture['2014':].plot(label='observed') \n",
    "# displays plot for original values\n",
    "pred.predicted_mean.plot(ax=ax, label='One-step ahead Forecast', alpha=.7, figsize=(14, 7)) \n",
    "# displays plot for predicted values\n",
    "ax.fill_between(pred_val.index,\n",
    "                pred_val.iloc[:, 0],\n",
    "                pred_val.iloc[:, 1], color='k', alpha=.2)\n",
    "ax.set_xlabel('Date')\n",
    "ax.set_ylabel('Sales')\n",
    "plt.legend()\n",
    "plt.show()"
   ]
  },
  {
   "cell_type": "code",
   "execution_count": 63,
   "id": "bc85c33c",
   "metadata": {},
   "outputs": [
    {
     "name": "stdout",
     "output_type": "stream",
     "text": [
      "The Mean Squared Error of the forecasts is 1013.72\n"
     ]
    }
   ],
   "source": [
    "y_forecasted = pred.predicted_mean\n",
    "y_truth = Furniture['Sales']\n",
    "\n",
    "from sklearn.metrics import mean_squared_error\n",
    "from math import sqrt\n",
    "\n",
    "mse = mean_squared_error(y_forecasted, y_truth)\n",
    "rmse = sqrt(mse)\n",
    "print('The Mean Squared Error of the forecasts is {}'.format(round(rmse, 2))) \n",
    "# displays the root mean squared error of the forecast with rounding it up to 2 decimals"
   ]
  },
  {
   "cell_type": "code",
   "execution_count": 68,
   "id": "aad9cf80",
   "metadata": {},
   "outputs": [
    {
     "name": "stdout",
     "output_type": "stream",
     "text": [
      "889\n",
      "889\n"
     ]
    }
   ],
   "source": [
    "print(len(y_forecasted))\n",
    "print(len(y_truth))"
   ]
  },
  {
   "cell_type": "code",
   "execution_count": 67,
   "id": "cfb6aa35",
   "metadata": {},
   "outputs": [
    {
     "name": "stderr",
     "output_type": "stream",
     "text": [
      "C:\\Users\\Lenovo\\anaconda3\\lib\\site-packages\\statsmodels\\tsa\\base\\tsa_model.py:581: ValueWarning: A date index has been provided, but it has no associated frequency information and so will be ignored when e.g. forecasting.\n",
      "  warnings.warn('A date index has been provided, but it has no'\n",
      "C:\\Users\\Lenovo\\anaconda3\\lib\\site-packages\\statsmodels\\tsa\\base\\tsa_model.py:581: ValueWarning: A date index has been provided, but it has no associated frequency information and so will be ignored when e.g. forecasting.\n",
      "  warnings.warn('A date index has been provided, but it has no'\n"
     ]
    },
    {
     "name": "stdout",
     "output_type": "stream",
     "text": [
      "889    1195\n",
      "890    1182\n",
      "891    1199\n",
      "892    1171\n",
      "893    1169\n",
      "894    1260\n",
      "895    1174\n",
      "896    1199\n",
      "897    1187\n",
      "898    1181\n",
      "899    1221\n",
      "900    1176\n",
      "901    1196\n",
      "902    1195\n",
      "903    1195\n",
      "904    1195\n",
      "905    1195\n",
      "906    1195\n",
      "907    1195\n",
      "908    1195\n",
      "909    1195\n",
      "910    1195\n",
      "911    1195\n",
      "912    1195\n",
      "913    1195\n",
      "914    1195\n",
      "915    1195\n",
      "916    1195\n",
      "917    1195\n",
      "918    1195\n",
      "Name: predicted_mean, dtype: int32\n"
     ]
    },
    {
     "name": "stderr",
     "output_type": "stream",
     "text": [
      "C:\\Users\\Lenovo\\anaconda3\\lib\\site-packages\\statsmodels\\tsa\\base\\tsa_model.py:376: ValueWarning: No supported index is available. Prediction results will be given with an integer index beginning at `start`.\n",
      "  warnings.warn('No supported index is available.'\n"
     ]
    }
   ],
   "source": [
    "# ARIMA(1, 1, 1) * (0, 0, 1, 12) - AIC:196.27849067918328\n",
    "mod = sm.tsa.statespace.SARIMAX(Furniture['Sales'],order=(1, 1, 1),seasonal_order=(0, 0, 1, 12),enforce_stationarity=False,\n",
    "                                enforce_invertibility=False) #model defintion\n",
    "result = mod.fit() #model fitting\n",
    "\n",
    "forecast = result.forecast(steps=30)\n",
    "print(forecast.astype('int')) #displays the sales forecast as type integer"
   ]
  },
  {
   "cell_type": "code",
   "execution_count": 65,
   "id": "2a181f27",
   "metadata": {},
   "outputs": [
    {
     "data": {
      "text/plain": [
       "889     1195.312384\n",
       "890     1182.491380\n",
       "891     1199.962203\n",
       "892     1171.632287\n",
       "893     1169.521244\n",
       "           ...     \n",
       "1249    1195.662499\n",
       "1250    1195.662499\n",
       "1251    1195.662499\n",
       "1252    1195.662499\n",
       "1253    1195.662499\n",
       "Name: predicted_mean, Length: 365, dtype: float64"
      ]
     },
     "execution_count": 65,
     "metadata": {},
     "output_type": "execute_result"
    }
   ],
   "source": [
    "forecast"
   ]
  },
  {
   "cell_type": "code",
   "execution_count": null,
   "id": "4666a081",
   "metadata": {},
   "outputs": [],
   "source": []
  }
 ],
 "metadata": {
  "kernelspec": {
   "display_name": "Python 3",
   "language": "python",
   "name": "python3"
  },
  "language_info": {
   "codemirror_mode": {
    "name": "ipython",
    "version": 3
   },
   "file_extension": ".py",
   "mimetype": "text/x-python",
   "name": "python",
   "nbconvert_exporter": "python",
   "pygments_lexer": "ipython3",
   "version": "3.8.8"
  }
 },
 "nbformat": 4,
 "nbformat_minor": 5
}
